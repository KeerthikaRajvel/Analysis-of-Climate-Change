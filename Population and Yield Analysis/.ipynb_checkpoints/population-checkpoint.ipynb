{
 "cells": [
  {
   "cell_type": "code",
   "execution_count": 241,
   "metadata": {},
   "outputs": [],
   "source": [
    "import pandas as pd\n",
    "import numpy as np\n",
    "from scipy.stats import spearmanr,kendalltau\n",
    "import matplotlib.pyplot as plt\n",
    "from matplotlib.pylab import rcParams\n",
    "rcParams['figure.figsize']= 8,4"
   ]
  },
  {
   "cell_type": "code",
   "execution_count": 163,
   "metadata": {},
   "outputs": [],
   "source": [
    "dataset = pd.read_excel('dataset.xls')\n",
    "df = pd.DataFrame(dataset)"
   ]
  },
  {
   "cell_type": "markdown",
   "metadata": {},
   "source": [
    "### Data Cleaning and filtering "
   ]
  },
  {
   "cell_type": "code",
   "execution_count": 164,
   "metadata": {},
   "outputs": [],
   "source": [
    "df1 = df[df['Series name'] == 'Population']\n",
    "df2 = df[df['Series name'] == 'Cereal yield (kg per hectare)']\n",
    "#list(df1.columns.values)\n",
    "new_df1 = df1.drop(columns = [2010,2011,'SCALE','Decimals'])\n",
    "new_df2 = df2.drop(columns = [2010,2011,'SCALE','Decimals'])\n",
    "#new_df2\n",
    "new_df2 = new_df2.replace(to_replace =\"..\", value =np.nan) \n",
    "new_list = new_df2[new_df2.isna().any(axis=1)]\n"
   ]
  },
  {
   "cell_type": "markdown",
   "metadata": {},
   "source": [
    "### Listing out countries that have empty values"
   ]
  },
  {
   "cell_type": "code",
   "execution_count": 165,
   "metadata": {},
   "outputs": [
    {
     "name": "stdout",
     "output_type": "stream",
     "text": [
      "['Aruba', 'Andorra', 'Armenia', 'American Samoa', 'Azerbaijan', 'Belgium', 'Bahrain', 'Bosnia and Herzegovina', 'Belarus', 'Bermuda', 'Channel Islands', 'Cook Islands', 'Curacao', 'Cayman Islands', 'Czech Republic', 'Eritrea', 'Estonia', 'Ethiopia', 'Faeroe Islands', 'Micronesia, Fed. Sts.', 'Georgia', 'Gibraltar', 'Equatorial Guinea', 'Greenland', 'Hong Kong SAR, China', 'Croatia', 'Isle of Man', 'Iceland', 'Kazakhstan', 'Kyrgyz Republic', 'Kiribati', 'St. Kitts and Nevis', 'Kosovo', 'St. Lucia', 'Liechtenstein', 'Lithuania', 'Luxembourg', 'Latvia', 'Macao SAR, China', 'St. Martin (French part)', 'Monaco', 'Moldova', 'Marshall Islands', 'Macedonia, FYR', 'Montenegro', 'Northern Mariana Islands', 'Mayotte', 'Niue', 'Nauru', 'Palau', 'French Polynesia', 'Russian Federation', 'Singapore', 'San Marino', 'Serbia', 'Slovak Republic', 'Slovenia', 'Sint Maarten (Dutch part)', 'Seychelles', 'Turks and Caicos Islands', 'Tajikistan', 'Turkmenistan', 'Tonga', 'Tuvalu', 'Ukraine', 'Uzbekistan', 'Virgin Islands (U.S.)', 'West Bank and Gaza', 'Samoa']\n"
     ]
    }
   ],
   "source": [
    "country_list =[]\n",
    "for column in new_list['Country name']:\n",
    "    country_list.append(column)\n",
    "print(country_list)    "
   ]
  },
  {
   "cell_type": "markdown",
   "metadata": {},
   "source": [
    "### Eliminating countries that are in the above list"
   ]
  },
  {
   "cell_type": "code",
   "execution_count": 166,
   "metadata": {},
   "outputs": [],
   "source": [
    "df_cereal = new_df2[~new_df2['Country name'].isin(country_list)]\n",
    "df_population = new_df1[~new_df1['Country name'].isin(country_list)]\n",
    "df_cereal2 = df_cereal.drop(columns = ['Country code','Series code','Series name'])\n",
    "df_population2 = df_population.drop(columns = ['Country code','Series code','Series name'])\n",
    "\n",
    "#df_population"
   ]
  },
  {
   "cell_type": "code",
   "execution_count": 167,
   "metadata": {},
   "outputs": [
    {
     "name": "stdout",
     "output_type": "stream",
     "text": [
      "['Afghanistan', 'Angola', 'Albania', 'United Arab Emirates', 'Argentina', 'Antigua and Barbuda', 'Australia', 'Austria', 'Burundi', 'Benin', 'Burkina Faso', 'Bangladesh', 'Bulgaria', 'Bahamas, The', 'Belize', 'Bolivia', 'Brazil', 'Barbados', 'Brunei Darussalam', 'Bhutan', 'Botswana', 'Central African Republic', 'Canada', 'Switzerland', 'Chile', 'China', \"Cote d'Ivoire\", 'Cameroon', 'Congo, Rep.', 'Colombia', 'Comoros', 'Cape Verde', 'Costa Rica', 'Cuba', 'Cyprus', 'Germany', 'Djibouti', 'Dominica', 'Denmark', 'Dominican Republic', 'Algeria', 'East Asia & Pacific', 'Europe & Central Asia', 'Ecuador', 'Egypt, Arab Rep.', 'Euro area', 'Spain', 'Finland', 'Fiji', 'France', 'Gabon', 'United Kingdom', 'Ghana', 'Guinea', 'Gambia, The', 'Guinea-Bissau', 'Greece', 'Grenada', 'Guatemala', 'Guam', 'Guyana', 'High income', 'Honduras', 'Haiti', 'Hungary', 'Indonesia', 'India', 'Ireland', 'Iran, Islamic Rep.', 'Iraq', 'Israel', 'Italy', 'Jamaica', 'Jordan', 'Japan', 'Kenya', 'Cambodia', 'Korea, Rep.', 'Kuwait', 'Latin America & Caribbean', 'Lao PDR', 'Lebanon', 'Liberia', 'Libya', 'Low income', 'Sri Lanka', 'Lower middle income', 'Low & middle income', 'Lesotho', 'Morocco', 'Madagascar', 'Maldives', 'Mexico', 'Middle income', 'Mali', 'Malta', 'Myanmar', 'Middle East & North Africa', 'Mongolia', 'Mozambique', 'Mauritania', 'Mauritius', 'Malawi', 'Malaysia', 'Namibia', 'New Caledonia', 'Niger', 'Nigeria', 'Nicaragua', 'Netherlands', 'Norway', 'Nepal', 'New Zealand', 'Oman', 'Pakistan', 'Panama', 'Peru', 'Philippines', 'Papua New Guinea', 'Poland', 'Puerto Rico', 'Korea, Dem. Rep.', 'Portugal', 'Paraguay', 'Qatar', 'Romania', 'Rwanda', 'South Asia', 'Saudi Arabia', 'Sudan', 'Senegal', 'Small island developing states', 'Solomon Islands', 'Sierra Leone', 'El Salvador', 'Somalia', 'Sub-Saharan Africa', 'Sao Tome and Principe', 'Suriname', 'Sweden', 'Swaziland', 'Syrian Arab Republic', 'Chad', 'Togo', 'Thailand', 'Timor-Leste', 'Trinidad and Tobago', 'Tunisia', 'Turkey', 'Tanzania', 'Uganda', 'Upper middle income', 'Uruguay', 'United States', 'St. Vincent and the Grenadines', 'Venezuela, RB', 'Vietnam', 'Vanuatu', 'World', 'Yemen, Rep.', 'South Africa', 'Congo, Dem. Rep.', 'Zambia', 'Zimbabwe']\n"
     ]
    }
   ],
   "source": [
    "country_list =[]\n",
    "for column in df_cereal['Country name']:\n",
    "    country_list.append(column)\n",
    "print(country_list) "
   ]
  },
  {
   "cell_type": "markdown",
   "metadata": {},
   "source": [
    "### Correlation Analysis"
   ]
  },
  {
   "cell_type": "code",
   "execution_count": 253,
   "metadata": {},
   "outputs": [
    {
     "name": "stdout",
     "output_type": "stream",
     "text": [
      "            population     yield\n",
      "population    1.000000 -0.218059\n",
      "yield        -0.218059  1.000000\n",
      "            population     yield\n",
      "population    1.000000 -0.052632\n",
      "yield        -0.052632  1.000000\n",
      "            population    yield\n",
      "population     1.00000 -0.15188\n",
      "yield         -0.15188  1.00000\n"
     ]
    }
   ],
   "source": [
    "#Australia\n",
    "\n",
    "cereal_australia = df_cereal2[df_cereal['Country name']=='Australia']\n",
    "pop_australia = df_population2[df_population['Country name']=='Australia']\n",
    "#pop_australia\n",
    "pop_aus = pop_australia.transpose()\n",
    "ce_aus = cereal_australia.transpose()\n",
    "final_aus =pop_aus.join(ce_aus)\n",
    "f_a =final_aus.drop(final_aus.index[0])\n",
    "f_a.columns = ['population','yield']\n",
    "f_a = f_a.apply(pd.to_numeric)\n",
    "f_a.dtypes\n",
    "a = f_a.corr(method = 'pearson')\n",
    "b = f_a.corr(method = 'kendall')\n",
    "c = f_a.corr(method = 'spearman')\n",
    "print(a)\n",
    "print(b)\n",
    "print(c)\n"
   ]
  },
  {
   "cell_type": "code",
   "execution_count": 261,
   "metadata": {},
   "outputs": [
    {
     "name": "stdout",
     "output_type": "stream",
     "text": [
      "476    0.027912\n",
      "dtype: float64\n",
      "12824    0.286351\n",
      "dtype: object\n"
     ]
    }
   ],
   "source": [
    "percent_increase_pop = (pop_australia[2009] - pop_australia[1990])/(pop_australia[1990])\n",
    "percent_increase_yield = (cereal_australia[2009] - cereal_australia[1990])/(cereal_australia[1990])\n",
    "\n",
    "\n",
    "print(percent_increase_yield)\n",
    "print(percent_increase_pop)\n"
   ]
  },
  {
   "cell_type": "code",
   "execution_count": 262,
   "metadata": {},
   "outputs": [
    {
     "name": "stdout",
     "output_type": "stream",
     "text": [
      "            population    yield\n",
      "population     1.00000  0.95193\n",
      "yield          0.95193  1.00000\n",
      "            population     yield\n",
      "population    1.000000  0.863158\n",
      "yield         0.863158  1.000000\n",
      "            population     yield\n",
      "population    1.000000  0.954887\n",
      "yield         0.954887  1.000000\n"
     ]
    }
   ],
   "source": [
    "#India\n",
    "\n",
    "cereal_india = df_cereal2[df_cereal['Country name']=='India']\n",
    "pop_india = df_population2[df_population['Country name']=='India']\n",
    "pop_in = pop_india.transpose()\n",
    "ce_in = cereal_india.transpose()\n",
    "final_in =pop_in.join(ce_in)\n",
    "f_i =final_in.drop(final_in.index[0])\n",
    "f_i.columns = ['population','yield']\n",
    "f_i = f_i.apply(pd.to_numeric)\n",
    "f_i.dtypes\n",
    "a = f_i.corr(method = 'pearson')\n",
    "b = f_i.corr(method = 'kendall')\n",
    "c = f_i.corr(method = 'spearman')\n",
    "print(a)\n",
    "print(b)\n",
    "print(c)\n"
   ]
  },
  {
   "cell_type": "code",
   "execution_count": 233,
   "metadata": {},
   "outputs": [
    {
     "name": "stdout",
     "output_type": "stream",
     "text": [
      "559    0.35993\n",
      "dtype: float64\n",
      "12907    0.360009\n",
      "dtype: object\n"
     ]
    }
   ],
   "source": [
    "percent_increase_pop = (pop_india[2009] - pop_india[1990])/(pop_india[1990])\n",
    "percent_increase_yield = (cereal_india[2009] - cereal_india[1990])/(cereal_india[1990])\n",
    "\n",
    "\n",
    "print(percent_increase_yield)\n",
    "print(percent_increase_pop)"
   ]
  },
  {
   "cell_type": "code",
   "execution_count": 236,
   "metadata": {},
   "outputs": [
    {
     "name": "stdout",
     "output_type": "stream",
     "text": [
      "            population   yield\n",
      "population      1.0000  0.9372\n",
      "yield           0.9372  1.0000\n",
      "            population     yield\n",
      "population    1.000000  0.789474\n",
      "yield         0.789474  1.000000\n",
      "            population     yield\n",
      "population    1.000000  0.911278\n",
      "yield         0.911278  1.000000\n"
     ]
    }
   ],
   "source": [
    "#China\n",
    "\n",
    "cereal_china = df_cereal2[df_cereal['Country name']=='China']\n",
    "pop_china = df_population2[df_population['Country name']=='China']\n",
    "pop_ch = pop_china.transpose()\n",
    "ce_ch = cereal_china.transpose()\n",
    "final_ch =pop_ch.join(ce_ch)\n",
    "f_c =final_ch.drop(final_ch.index[0])\n",
    "f_c.columns = ['population','yield']\n",
    "f_c = f_c.apply(pd.to_numeric)\n",
    "f_c.dtypes\n",
    "a = f_c.corr(method = 'pearson')\n",
    "b = f_c.corr(method = 'kendall')\n",
    "c = f_c.corr(method = 'spearman')\n",
    "print(a)\n",
    "print(b)\n",
    "print(c)\n"
   ]
  },
  {
   "cell_type": "code",
   "execution_count": 223,
   "metadata": {},
   "outputs": [
    {
     "name": "stdout",
     "output_type": "stream",
     "text": [
      "            population     yield\n",
      "population    1.000000  0.909252\n",
      "yield         0.909252  1.000000\n",
      "            population     yield\n",
      "population    1.000000  0.768421\n",
      "yield         0.768421  1.000000\n",
      "            population     yield\n",
      "population    1.000000  0.909774\n",
      "yield         0.909774  1.000000\n"
     ]
    }
   ],
   "source": [
    "#US\n",
    "\n",
    "cereal_us = df_cereal2[df_cereal['Country name']=='United States']\n",
    "pop_us = df_population2[df_population['Country name']=='United States']\n",
    "pop_us = pop_us.transpose()\n",
    "ce_us = cereal_us.transpose()\n",
    "final_us =pop_us.join(ce_us)\n",
    "f_us =final_us.drop(final_us.index[0])\n",
    "f_us.columns = ['population','yield']\n",
    "f_us = f_us.apply(pd.to_numeric)\n",
    "f_c.dtypes\n",
    "a = f_us.corr(method = 'pearson')\n",
    "b = f_us.corr(method = 'kendall')\n",
    "c = f_us.corr(method = 'spearman')\n",
    "print(a)\n",
    "print(b)\n",
    "print(c)\n",
    "\n",
    "\n"
   ]
  },
  {
   "cell_type": "code",
   "execution_count": 237,
   "metadata": {},
   "outputs": [
    {
     "name": "stdout",
     "output_type": "stream",
     "text": [
      "            population     yield\n",
      "population    1.000000  0.801043\n",
      "yield         0.801043  1.000000\n",
      "            population     yield\n",
      "population    1.000000  0.747368\n",
      "yield         0.747368  1.000000\n",
      "            population     yield\n",
      "population    1.000000  0.897744\n",
      "yield         0.897744  1.000000\n"
     ]
    }
   ],
   "source": [
    "#South Africa\n",
    "\n",
    "cereal_sa = df_cereal2[df_cereal['Country name']=='South Africa']\n",
    "pop_sa = df_population2[df_population['Country name']=='South Africa']\n",
    "pop_sa = pop_sa.transpose()\n",
    "ce_sa = cereal_sa.transpose()\n",
    "final_sa =pop_sa.join(ce_sa)\n",
    "f_sa =final_sa.drop(final_sa.index[0])\n",
    "f_sa.columns = ['population','yield']\n",
    "f_sa = f_sa.apply(pd.to_numeric)\n",
    "f_sa.dtypes\n",
    "a = f_sa.corr(method = 'pearson')\n",
    "b = f_sa.corr(method = 'kendall')\n",
    "c = f_sa.corr(method = 'spearman')\n",
    "print(a)\n",
    "print(b)\n",
    "print(c)\n"
   ]
  },
  {
   "cell_type": "code",
   "execution_count": 238,
   "metadata": {},
   "outputs": [
    {
     "name": "stdout",
     "output_type": "stream",
     "text": [
      "            population     yield\n",
      "population    1.000000  0.309828\n",
      "yield         0.309828  1.000000\n",
      "            population     yield\n",
      "population    1.000000  0.189474\n",
      "yield         0.189474  1.000000\n",
      "            population     yield\n",
      "population    1.000000  0.242105\n",
      "yield         0.242105  1.000000\n"
     ]
    }
   ],
   "source": [
    "# Sudan\n",
    "\n",
    "cereal_su = df_cereal2[df_cereal['Country name']=='Sudan']\n",
    "pop_su = df_population2[df_population['Country name']=='Sudan']\n",
    "pop_su = pop_su.transpose()\n",
    "ce_su = cereal_su.transpose()\n",
    "final_su =pop_su.join(ce_su)\n",
    "f_su =final_su.drop(final_su.index[0])\n",
    "f_su.columns = ['population','yield']\n",
    "f_su = f_su.apply(pd.to_numeric)\n",
    "f_su.dtypes\n",
    "a = f_su.corr(method = 'pearson')\n",
    "b = f_su.corr(method = 'kendall')\n",
    "c = f_su.corr(method = 'spearman')\n",
    "print(a)\n",
    "print(b)\n",
    "print(c)"
   ]
  },
  {
   "cell_type": "code",
   "execution_count": 239,
   "metadata": {},
   "outputs": [
    {
     "name": "stdout",
     "output_type": "stream",
     "text": [
      "            population     yield\n",
      "population    1.000000  0.767516\n",
      "yield         0.767516  1.000000\n",
      "            population     yield\n",
      "population    1.000000  0.694737\n",
      "yield         0.694737  1.000000\n",
      "            population     yield\n",
      "population    1.000000  0.840602\n",
      "yield         0.840602  1.000000\n"
     ]
    }
   ],
   "source": [
    "# El Salvador\n",
    "\n",
    "cereal_el = df_cereal2[df_cereal['Country name']=='El Salvador']\n",
    "pop_el = df_population2[df_population['Country name']=='El Salvador']\n",
    "pop_el = pop_el.transpose()\n",
    "ce_el = cereal_el.transpose()\n",
    "final_el =pop_el.join(ce_el)\n",
    "f_el =final_el.drop(final_el.index[0])\n",
    "f_el.columns = ['population','yield']\n",
    "f_el = f_el.apply(pd.to_numeric)\n",
    "f_el.dtypes\n",
    "e = f_el.corr(method = 'pearson')\n",
    "f = f_el.corr(method = 'kendall')\n",
    "g = f_el.corr(method = 'spearman')\n",
    "print(e)\n",
    "print(f)\n",
    "print(g)"
   ]
  },
  {
   "cell_type": "code",
   "execution_count": null,
   "metadata": {},
   "outputs": [],
   "source": []
  }
 ],
 "metadata": {
  "kernelspec": {
   "display_name": "Python 3",
   "language": "python",
   "name": "python3"
  },
  "language_info": {
   "codemirror_mode": {
    "name": "ipython",
    "version": 3
   },
   "file_extension": ".py",
   "mimetype": "text/x-python",
   "name": "python",
   "nbconvert_exporter": "python",
   "pygments_lexer": "ipython3",
   "version": "3.7.3"
  }
 },
 "nbformat": 4,
 "nbformat_minor": 2
}
