{
 "cells": [
  {
   "cell_type": "markdown",
   "metadata": {},
   "source": [
    "**CarbonfootPrint Predition using Multiple Models**"
   ]
  },
  {
   "cell_type": "code",
   "execution_count": 1,
   "metadata": {},
   "outputs": [],
   "source": [
    "import pandas as pd\n",
    "import numpy as np\n",
    "import matplotlib.pyplot as plt\n",
    "%matplotlib inline\n",
    "from matplotlib.pylab import rcParams\n",
    "rcParams['figure.figsize'] = 20,10\n",
    "from sklearn.preprocessing import MinMaxScaler\n",
    "scaler = MinMaxScaler(feature_range=(0, 1))\n"
   ]
  },
  {
   "cell_type": "code",
   "execution_count": 2,
   "metadata": {
    "scrolled": true
   },
   "outputs": [
    {
     "data": {
      "text/html": [
       "<div>\n",
       "<style scoped>\n",
       "    .dataframe tbody tr th:only-of-type {\n",
       "        vertical-align: middle;\n",
       "    }\n",
       "\n",
       "    .dataframe tbody tr th {\n",
       "        vertical-align: top;\n",
       "    }\n",
       "\n",
       "    .dataframe thead th {\n",
       "        text-align: right;\n",
       "    }\n",
       "</style>\n",
       "<table border=\"1\" class=\"dataframe\">\n",
       "  <thead>\n",
       "    <tr style=\"text-align: right;\">\n",
       "      <th></th>\n",
       "      <th>Year</th>\n",
       "      <th>Afghanistan</th>\n",
       "      <th>Albania</th>\n",
       "      <th>Algeria</th>\n",
       "      <th>American Samoa</th>\n",
       "      <th>Andorra</th>\n",
       "      <th>Angola</th>\n",
       "      <th>Antigua and Barbuda</th>\n",
       "      <th>Argentina</th>\n",
       "      <th>Armenia</th>\n",
       "      <th>...</th>\n",
       "      <th>Uzbekistan</th>\n",
       "      <th>Vanuatu</th>\n",
       "      <th>Venezuela, RB</th>\n",
       "      <th>Vietnam</th>\n",
       "      <th>Virgin Islands (U.S.)</th>\n",
       "      <th>West Bank and Gaza</th>\n",
       "      <th>World</th>\n",
       "      <th>Yemen, Rep.</th>\n",
       "      <th>Zambia</th>\n",
       "      <th>Zimbabwe</th>\n",
       "    </tr>\n",
       "  </thead>\n",
       "  <tbody>\n",
       "    <tr>\n",
       "      <th>0</th>\n",
       "      <td>1990</td>\n",
       "      <td>0.000141</td>\n",
       "      <td>0.003435</td>\n",
       "      <td>0.004880</td>\n",
       "      <td>0</td>\n",
       "      <td>0.0</td>\n",
       "      <td>0.009253</td>\n",
       "      <td>0.004834</td>\n",
       "      <td>0.008030</td>\n",
       "      <td>0.001041</td>\n",
       "      <td>...</td>\n",
       "      <td>0.002003</td>\n",
       "      <td>0.000475</td>\n",
       "      <td>0.009722</td>\n",
       "      <td>0.001398</td>\n",
       "      <td>0</td>\n",
       "      <td>0.0</td>\n",
       "      <td>0.006059</td>\n",
       "      <td>0.000244</td>\n",
       "      <td>0.008277</td>\n",
       "      <td>0.003143</td>\n",
       "    </tr>\n",
       "    <tr>\n",
       "      <th>1</th>\n",
       "      <td>1991</td>\n",
       "      <td>0.000127</td>\n",
       "      <td>0.001206</td>\n",
       "      <td>0.003141</td>\n",
       "      <td>0</td>\n",
       "      <td>0.0</td>\n",
       "      <td>0.000410</td>\n",
       "      <td>0.004675</td>\n",
       "      <td>0.003536</td>\n",
       "      <td>0.000000</td>\n",
       "      <td>...</td>\n",
       "      <td>0.000000</td>\n",
       "      <td>0.000438</td>\n",
       "      <td>0.005716</td>\n",
       "      <td>0.000319</td>\n",
       "      <td>0</td>\n",
       "      <td>0.0</td>\n",
       "      <td>0.004268</td>\n",
       "      <td>0.000806</td>\n",
       "      <td>0.000300</td>\n",
       "      <td>0.001472</td>\n",
       "    </tr>\n",
       "    <tr>\n",
       "      <th>2</th>\n",
       "      <td>1992</td>\n",
       "      <td>0.000070</td>\n",
       "      <td>0.000731</td>\n",
       "      <td>0.003097</td>\n",
       "      <td>0</td>\n",
       "      <td>0.0</td>\n",
       "      <td>0.000402</td>\n",
       "      <td>0.004598</td>\n",
       "      <td>0.003621</td>\n",
       "      <td>0.001067</td>\n",
       "      <td>...</td>\n",
       "      <td>0.005316</td>\n",
       "      <td>0.000425</td>\n",
       "      <td>0.005125</td>\n",
       "      <td>0.000327</td>\n",
       "      <td>0</td>\n",
       "      <td>0.0</td>\n",
       "      <td>0.004127</td>\n",
       "      <td>0.001090</td>\n",
       "      <td>0.000297</td>\n",
       "      <td>0.001536</td>\n",
       "    </tr>\n",
       "    <tr>\n",
       "      <th>3</th>\n",
       "      <td>1993</td>\n",
       "      <td>0.000065</td>\n",
       "      <td>0.000727</td>\n",
       "      <td>0.003036</td>\n",
       "      <td>0</td>\n",
       "      <td>0.0</td>\n",
       "      <td>0.000510</td>\n",
       "      <td>0.004722</td>\n",
       "      <td>0.003490</td>\n",
       "      <td>0.000869</td>\n",
       "      <td>...</td>\n",
       "      <td>0.005402</td>\n",
       "      <td>0.000413</td>\n",
       "      <td>0.005888</td>\n",
       "      <td>0.000330</td>\n",
       "      <td>0</td>\n",
       "      <td>0.0</td>\n",
       "      <td>0.004070</td>\n",
       "      <td>0.000680</td>\n",
       "      <td>0.000295</td>\n",
       "      <td>0.001441</td>\n",
       "    </tr>\n",
       "    <tr>\n",
       "      <th>4</th>\n",
       "      <td>1994</td>\n",
       "      <td>0.000061</td>\n",
       "      <td>0.000607</td>\n",
       "      <td>0.003112</td>\n",
       "      <td>0</td>\n",
       "      <td>0.0</td>\n",
       "      <td>0.000331</td>\n",
       "      <td>0.004659</td>\n",
       "      <td>0.003584</td>\n",
       "      <td>0.000902</td>\n",
       "      <td>...</td>\n",
       "      <td>0.004960</td>\n",
       "      <td>0.000402</td>\n",
       "      <td>0.006021</td>\n",
       "      <td>0.000371</td>\n",
       "      <td>0</td>\n",
       "      <td>0.0</td>\n",
       "      <td>0.004088</td>\n",
       "      <td>0.000782</td>\n",
       "      <td>0.000278</td>\n",
       "      <td>0.001538</td>\n",
       "    </tr>\n",
       "  </tbody>\n",
       "</table>\n",
       "<p>5 rows × 234 columns</p>\n",
       "</div>"
      ],
      "text/plain": [
       "   Year  Afghanistan   Albania   Algeria  American Samoa  Andorra    Angola  \\\n",
       "0  1990     0.000141  0.003435  0.004880               0      0.0  0.009253   \n",
       "1  1991     0.000127  0.001206  0.003141               0      0.0  0.000410   \n",
       "2  1992     0.000070  0.000731  0.003097               0      0.0  0.000402   \n",
       "3  1993     0.000065  0.000727  0.003036               0      0.0  0.000510   \n",
       "4  1994     0.000061  0.000607  0.003112               0      0.0  0.000331   \n",
       "\n",
       "   Antigua and Barbuda  Argentina   Armenia  ...  Uzbekistan   Vanuatu  \\\n",
       "0             0.004834   0.008030  0.001041  ...    0.002003  0.000475   \n",
       "1             0.004675   0.003536  0.000000  ...    0.000000  0.000438   \n",
       "2             0.004598   0.003621  0.001067  ...    0.005316  0.000425   \n",
       "3             0.004722   0.003490  0.000869  ...    0.005402  0.000413   \n",
       "4             0.004659   0.003584  0.000902  ...    0.004960  0.000402   \n",
       "\n",
       "   Venezuela, RB   Vietnam  Virgin Islands (U.S.)  West Bank and Gaza  \\\n",
       "0       0.009722  0.001398                      0                 0.0   \n",
       "1       0.005716  0.000319                      0                 0.0   \n",
       "2       0.005125  0.000327                      0                 0.0   \n",
       "3       0.005888  0.000330                      0                 0.0   \n",
       "4       0.006021  0.000371                      0                 0.0   \n",
       "\n",
       "      World  Yemen, Rep.    Zambia  Zimbabwe  \n",
       "0  0.006059     0.000244  0.008277  0.003143  \n",
       "1  0.004268     0.000806  0.000300  0.001472  \n",
       "2  0.004127     0.001090  0.000297  0.001536  \n",
       "3  0.004070     0.000680  0.000295  0.001441  \n",
       "4  0.004088     0.000782  0.000278  0.001538  \n",
       "\n",
       "[5 rows x 234 columns]"
      ]
     },
     "execution_count": 2,
     "metadata": {},
     "output_type": "execute_result"
    }
   ],
   "source": [
    "#Reading the csv file\n",
    "df = pd.read_csv('file.csv')\n",
    "df.head()"
   ]
  },
  {
   "cell_type": "markdown",
   "metadata": {},
   "source": [
    "**Understanding the trend from the data**"
   ]
  },
  {
   "cell_type": "code",
   "execution_count": 3,
   "metadata": {},
   "outputs": [],
   "source": [
    "#setting Year as our primrary index\n",
    "df.index = df['Year']"
   ]
  },
  {
   "cell_type": "markdown",
   "metadata": {},
   "source": [
    "**Carbonfootprint trend of China**"
   ]
  },
  {
   "cell_type": "code",
   "execution_count": 4,
   "metadata": {},
   "outputs": [
    {
     "data": {
      "text/plain": [
       "[<matplotlib.lines.Line2D at 0x2566b712fd0>]"
      ]
     },
     "execution_count": 4,
     "metadata": {},
     "output_type": "execute_result"
    },
    {
     "data": {
      "image/png": "[encoded data removed]",
      "text/plain": [
       "<Figure size 576x288 with 1 Axes>"
      ]
     },
     "metadata": {
      "needs_background": "light"
     },
     "output_type": "display_data"
    }
   ],
   "source": [
    "#checking carbonfootprint rate of China\n",
    "plt.figure(figsize=(8,4))\n",
    "plt.plot(df['China'], label='Carbonfootprint history of China')"
   ]
  },
  {
   "cell_type": "markdown",
   "metadata": {},
   "source": [
    "**Mann-Kendall test for China**"
   ]
  },
  {
   "cell_type": "code",
   "execution_count": 105,
   "metadata": {},
   "outputs": [
    {
     "name": "stdout",
     "output_type": "stream",
     "text": [
      "Mann_Kendall_Test(trend='increasing', h=True, p=0.00020851488841810983, z=3.7084705712689936, Tau=0.6257309941520468, s=107.0, var_s=817.0, slope=0.00013915800000000012)\n",
      "\n",
      "\n",
      "**********THE TREND IS*******\n",
      "\n",
      "increasing\n",
      "\n",
      "\n",
      "0.00013915800000000012\n"
     ]
    }
   ],
   "source": [
    "import numpy as np\n",
    "import pymannkendall as mk\n",
    "\n",
    "df = pd.read_csv('file.csv')\n",
    "# Data generation for analysis\n",
    "df.index = df['Year']\n",
    "new_data = df[[\"China\"]]\n",
    "\n",
    "\n",
    "result = mk.original_test(new_data)\n",
    "trend, h, p, z, Tau, s, var_s, slope = mk.original_test(new_data)\n",
    "print(result)\n",
    "print(\"\\n\")\n",
    "print(\"**********THE TREND IS*******\\n\")\n",
    "print(trend)\n",
    "print(\"\\n\")\n",
    "print(slope)"
   ]
  },
  {
   "cell_type": "markdown",
   "metadata": {},
   "source": [
    "**Carbonfootprint trend of India**"
   ]
  },
  {
   "cell_type": "code",
   "execution_count": 5,
   "metadata": {},
   "outputs": [
    {
     "data": {
      "text/plain": [
       "[<matplotlib.lines.Line2D at 0x2566b7cf278>]"
      ]
     },
     "execution_count": 5,
     "metadata": {},
     "output_type": "execute_result"
    },
    {
     "data": {
      "image/png": "[encoded data removed]",
      "text/plain": [
       "<Figure size 576x288 with 1 Axes>"
      ]
     },
     "metadata": {
      "needs_background": "light"
     },
     "output_type": "display_data"
    }
   ],
   "source": [
    "plt.figure(figsize=(8,4))\n",
    "plt.plot(df['India'], label='Carbonfootprint history of India')"
   ]
  },
  {
   "cell_type": "markdown",
   "metadata": {},
   "source": [
    "**Mann-Kendall test for India**"
   ]
  },
  {
   "cell_type": "code",
   "execution_count": 106,
   "metadata": {},
   "outputs": [
    {
     "name": "stdout",
     "output_type": "stream",
     "text": [
      "Mann_Kendall_Test(trend='increasing', h=True, p=0.0006067342740450066, z=3.4285859998524657, Tau=0.5789473684210527, s=99.0, var_s=817.0, slope=3.144780000000001e-05)\n",
      "\n",
      "\n",
      "**********THE TREND IS*******\n",
      "\n",
      "increasing\n",
      "\n",
      "\n",
      "3.144780000000001e-05\n"
     ]
    }
   ],
   "source": [
    "import numpy as np\n",
    "import pymannkendall as mk\n",
    "\n",
    "df = pd.read_csv('file.csv')\n",
    "# Data generation for analysis\n",
    "df.index = df['Year']\n",
    "new_data_ind = df[[\"India\"]]\n",
    "\n",
    "\n",
    "result = mk.original_test(new_data_ind)\n",
    "trend, h, p, z, Tau, s, var_s, slope = mk.original_test(new_data_ind)\n",
    "print(result)\n",
    "print(\"\\n\")\n",
    "print(\"**********THE TREND IS*******\\n\")\n",
    "print(trend)\n",
    "print(\"\\n\")\n",
    "print(slope)"
   ]
  },
  {
   "cell_type": "markdown",
   "metadata": {},
   "source": [
    "**Carbonfootprint trend of Mexico**"
   ]
  },
  {
   "cell_type": "code",
   "execution_count": 6,
   "metadata": {},
   "outputs": [
    {
     "data": {
      "text/plain": [
       "[<matplotlib.lines.Line2D at 0x2566b839898>]"
      ]
     },
     "execution_count": 6,
     "metadata": {},
     "output_type": "execute_result"
    },
    {
     "data": {
      "image/png": "[encoded data removed]",
      "text/plain": [
       "<Figure size 576x288 with 1 Axes>"
      ]
     },
     "metadata": {
      "needs_background": "light"
     },
     "output_type": "display_data"
    }
   ],
   "source": [
    "plt.figure(figsize=(8,4))\n",
    "plt.plot(df['Mexico'], label='Carbonfootprint history of Mexico')"
   ]
  },
  {
   "cell_type": "markdown",
   "metadata": {},
   "source": [
    "**Mann-Kendall test for Mexico**"
   ]
  },
  {
   "cell_type": "code",
   "execution_count": 107,
   "metadata": {},
   "outputs": [
    {
     "name": "stdout",
     "output_type": "stream",
     "text": [
      "Mann_Kendall_Test(trend='no trend', h=False, p=0.48410753779266247, z=0.6997114285413196, Tau=0.12280701754385964, s=21.0, var_s=817.0, slope=7.677999999999678e-06)\n",
      "\n",
      "\n",
      "**********THE TREND IS*******\n",
      "\n",
      "no trend\n",
      "\n",
      "\n",
      "7.677999999999678e-06\n"
     ]
    }
   ],
   "source": [
    "import numpy as np\n",
    "import pymannkendall as mk\n",
    "\n",
    "df = pd.read_csv('file.csv')\n",
    "# Data generation for analysis\n",
    "df.index = df['Year']\n",
    "new_data_mx = df[[\"Mexico\"]]\n",
    "\n",
    "\n",
    "result = mk.original_test(new_data_mx)\n",
    "trend, h, p, z, Tau, s, var_s, slope = mk.original_test(new_data_mx)\n",
    "print(result)\n",
    "print(\"\\n\")\n",
    "print(\"**********THE TREND IS*******\\n\")\n",
    "print(trend)\n",
    "print(\"\\n\")\n",
    "print(slope)"
   ]
  },
  {
   "cell_type": "markdown",
   "metadata": {},
   "source": [
    "**Carbonfootprint trend of United States**"
   ]
  },
  {
   "cell_type": "code",
   "execution_count": 7,
   "metadata": {},
   "outputs": [
    {
     "data": {
      "text/plain": [
       "[<matplotlib.lines.Line2D at 0x2566b8aa6a0>]"
      ]
     },
     "execution_count": 7,
     "metadata": {},
     "output_type": "execute_result"
    },
    {
     "data": {
      "image/png": "[encoded data removed]",
      "text/plain": [
       "<Figure size 576x288 with 1 Axes>"
      ]
     },
     "metadata": {
      "needs_background": "light"
     },
     "output_type": "display_data"
    }
   ],
   "source": [
    "plt.figure(figsize=(8,4))\n",
    "plt.plot(df['United States'], label='Carbonfootprint history of United States')"
   ]
  },
  {
   "cell_type": "markdown",
   "metadata": {},
   "source": [
    "**Mann-Kendall test for United States**"
   ]
  },
  {
   "cell_type": "code",
   "execution_count": 108,
   "metadata": {},
   "outputs": [
    {
     "name": "stdout",
     "output_type": "stream",
     "text": [
      "Mann_Kendall_Test(trend='decreasing', h=True, p=0.004120102888570676, z=-2.8688168570194104, Tau=-0.4853801169590643, s=-83.0, var_s=817.0, slope=-0.0001096634444444444)\n",
      "\n",
      "\n",
      "**********THE TREND IS*******\n",
      "\n",
      "decreasing\n",
      "\n",
      "\n",
      "-0.0001096634444444444\n"
     ]
    }
   ],
   "source": [
    "import numpy as np\n",
    "import pymannkendall as mk\n",
    "\n",
    "df = pd.read_csv('file.csv')\n",
    "# Data generation for analysis\n",
    "df.index = df['Year']\n",
    "new_data_Us = df[[\"United States\"]]\n",
    "\n",
    "\n",
    "result = mk.original_test(new_data_Us)\n",
    "trend, h, p, z, Tau, s, var_s, slope = mk.original_test(new_data_Us)\n",
    "print(result)\n",
    "print(\"\\n\")\n",
    "print(\"**********THE TREND IS*******\\n\")\n",
    "print(trend)\n",
    "print(\"\\n\")\n",
    "print(slope)"
   ]
  },
  {
   "cell_type": "markdown",
   "metadata": {},
   "source": [
    "**Carbonfootprint trend of United Kingdom**"
   ]
  },
  {
   "cell_type": "code",
   "execution_count": 8,
   "metadata": {},
   "outputs": [
    {
     "data": {
      "text/plain": [
       "[<matplotlib.lines.Line2D at 0x2566b90f5c0>]"
      ]
     },
     "execution_count": 8,
     "metadata": {},
     "output_type": "execute_result"
    },
    {
     "data": {
      "image/png": "[encoded data removed]",
      "text/plain": [
       "<Figure size 576x288 with 1 Axes>"
      ]
     },
     "metadata": {
      "needs_background": "light"
     },
     "output_type": "display_data"
    }
   ],
   "source": [
    "plt.figure(figsize=(8,4))\n",
    "plt.plot(df['United Kingdom'], label='Carbonfootprint history of United Kingdom')"
   ]
  },
  {
   "cell_type": "markdown",
   "metadata": {},
   "source": [
    "**Mann-Kendall test for United Kingdom**"
   ]
  },
  {
   "cell_type": "code",
   "execution_count": 109,
   "metadata": {},
   "outputs": [
    {
     "name": "stdout",
     "output_type": "stream",
     "text": [
      "Mann_Kendall_Test(trend='decreasing', h=True, p=0.00011888557252737186, z=-3.8484128569772578, Tau=-0.6491228070175439, s=-111.0, var_s=817.0, slope=-0.0001023717272727273)\n",
      "\n",
      "\n",
      "**********THE TREND IS*******\n",
      "\n",
      "decreasing\n",
      "\n",
      "\n",
      "-0.0001023717272727273\n"
     ]
    }
   ],
   "source": [
    "import numpy as np\n",
    "import pymannkendall as mk\n",
    "\n",
    "df = pd.read_csv('file.csv')\n",
    "# Data generation for analysis\n",
    "df.index = df['Year']\n",
    "new_data_Uk = df[[\"United Kingdom\"]]\n",
    "\n",
    "\n",
    "result = mk.original_test(new_data_Uk)\n",
    "trend, h, p, z, Tau, s, var_s, slope = mk.original_test(new_data_Uk)\n",
    "print(result)\n",
    "print(\"\\n\")\n",
    "print(\"**********THE TREND IS*******\\n\")\n",
    "print(trend)\n",
    "print(\"\\n\")\n",
    "print(slope)"
   ]
  },
  {
   "cell_type": "markdown",
   "metadata": {},
   "source": [
    "**Prediction of Carbonfootprint using Moving Average**"
   ]
  },
  {
   "cell_type": "markdown",
   "metadata": {},
   "source": [
    "**China**"
   ]
  },
  {
   "cell_type": "code",
   "execution_count": 9,
   "metadata": {},
   "outputs": [],
   "source": [
    "#Predicting for Afghanistan based on moving average\n",
    "# reading the data\n",
    "df = pd.read_csv('file.csv')\n",
    "\n",
    "# looking at the first five rows of the data\n",
    "#print(df.head())\n",
    "#print('\\n Shape of the data:')\n",
    "#print(df.shape)\n",
    "\n",
    "df.index = df['Year']\n",
    "\n",
    "data = df.sort_index(ascending=True, axis=0)\n",
    "#creating dataframe with date and the target variable\n",
    "new_data = df[[\"China\"]]\n"
   ]
  },
  {
   "cell_type": "code",
   "execution_count": 10,
   "metadata": {},
   "outputs": [
    {
     "name": "stdout",
     "output_type": "stream",
     "text": [
      "\n",
      " RMSE value on validation set:\n",
      "0.0018045985196406165\n"
     ]
    }
   ],
   "source": [
    "train = new_data[:12]\n",
    "valid = new_data[12:]\n",
    "\n",
    "# shapes of training set\n",
    "#print('\\n Shape of training set:')\n",
    "#print(train.shape)\n",
    "\n",
    "# shapes of validation set\n",
    "#print('\\n Shape of validation set:')\n",
    "#print(valid.shape)\n",
    "preds = []\n",
    "for i in range(0,valid.shape[0]):\n",
    "    a = train['China'][len(train)-7+i:].sum() + sum(preds)\n",
    "    b = a/7\n",
    "    preds.append(b)\n",
    "\n",
    "# checking the results (RMSE value)\n",
    "rms=np.sqrt(np.mean(np.power((np.array(valid['China'])-preds),2)))\n",
    "print('\\n RMSE value on validation set:')\n",
    "print(rms)"
   ]
  },
  {
   "cell_type": "code",
   "execution_count": 11,
   "metadata": {},
   "outputs": [
    {
     "name": "stderr",
     "output_type": "stream",
     "text": [
      "C:\\Users\\akash\\Anaconda3\\lib\\site-packages\\ipykernel_launcher.py:2: SettingWithCopyWarning: \n",
      "A value is trying to be set on a copy of a slice from a DataFrame.\n",
      "Try using .loc[row_indexer,col_indexer] = value instead\n",
      "\n",
      "See the caveats in the documentation: http://pandas.pydata.org/pandas-docs/stable/user_guide/indexing.html#returning-a-view-versus-a-copy\n",
      "  \n"
     ]
    },
    {
     "data": {
      "text/plain": [
       "[<matplotlib.lines.Line2D at 0x2566b983e48>,\n",
       " <matplotlib.lines.Line2D at 0x2566b983f98>]"
      ]
     },
     "execution_count": 11,
     "metadata": {},
     "output_type": "execute_result"
    },
    {
     "data": {
      "image/png": "[encoded data removed]",
      "text/plain": [
       "<Figure size 432x288 with 1 Axes>"
      ]
     },
     "metadata": {
      "needs_background": "light"
     },
     "output_type": "display_data"
    }
   ],
   "source": [
    "#plot\n",
    "valid['Predictions'] = preds\n",
    "plt.plot(train['China'])\n",
    "plt.plot(valid[['China', 'Predictions']])"
   ]
  },
  {
   "cell_type": "markdown",
   "metadata": {},
   "source": [
    "**India**"
   ]
  },
  {
   "cell_type": "code",
   "execution_count": 12,
   "metadata": {},
   "outputs": [
    {
     "name": "stdout",
     "output_type": "stream",
     "text": [
      "\n",
      " RMSE value on validation set:\n",
      "0.00028874501223180165\n"
     ]
    },
    {
     "name": "stderr",
     "output_type": "stream",
     "text": [
      "C:\\Users\\akash\\Anaconda3\\lib\\site-packages\\ipykernel_launcher.py:38: SettingWithCopyWarning: \n",
      "A value is trying to be set on a copy of a slice from a DataFrame.\n",
      "Try using .loc[row_indexer,col_indexer] = value instead\n",
      "\n",
      "See the caveats in the documentation: http://pandas.pydata.org/pandas-docs/stable/user_guide/indexing.html#returning-a-view-versus-a-copy\n",
      "C:\\Users\\akash\\Anaconda3\\lib\\site-packages\\ipykernel_launcher.py:39: SettingWithCopyWarning: \n",
      "A value is trying to be set on a copy of a slice from a DataFrame.\n",
      "Try using .loc[row_indexer,col_indexer] = value instead\n",
      "\n",
      "See the caveats in the documentation: http://pandas.pydata.org/pandas-docs/stable/user_guide/indexing.html#returning-a-view-versus-a-copy\n"
     ]
    },
    {
     "data": {
      "text/plain": [
       "[<matplotlib.lines.Line2D at 0x2566b9f6ba8>,\n",
       " <matplotlib.lines.Line2D at 0x2566b9f6cf8>]"
      ]
     },
     "execution_count": 12,
     "metadata": {},
     "output_type": "execute_result"
    },
    {
     "data": {
      "image/png": "[encoded data removed]",
      "text/plain": [
       "<Figure size 432x288 with 1 Axes>"
      ]
     },
     "metadata": {
      "needs_background": "light"
     },
     "output_type": "display_data"
    }
   ],
   "source": [
    "#Predicting for India based on moving average\n",
    "# reading the data\n",
    "df = pd.read_csv('file.csv')\n",
    "\n",
    "# looking at the first five rows of the data\n",
    "#print(df.head())\n",
    "#print('\\n Shape of the data:')\n",
    "#print(df.shape)\n",
    "\n",
    "df.index = df['Year']\n",
    "\n",
    "data = df.sort_index(ascending=True, axis=0)\n",
    "#creating dataframe with date and the target variable\n",
    "new_data_India = df[[\"India\"]]\n",
    "\n",
    "train = new_data_India[:12]\n",
    "valid = new_data_India[12:]\n",
    "\n",
    "# shapes of training set\n",
    "#print('\\n Shape of training set:')\n",
    "#print(train.shape)\n",
    "\n",
    "# shapes of validation set\n",
    "#print('\\n Shape of validation set:')\n",
    "#print(valid.shape)\n",
    "preds = []\n",
    "for i in range(0,valid.shape[0]):\n",
    "    a = train['India'][len(train)-7+i:].sum() + sum(preds)\n",
    "    b = a/7\n",
    "    preds.append(b)\n",
    "\n",
    "# checking the results (RMSE value)\n",
    "rms=np.sqrt(np.mean(np.power((np.array(valid['India'])-preds),2)))\n",
    "print('\\n RMSE value on validation set:')\n",
    "print(rms)\n",
    "\n",
    "#plot\n",
    "valid['Predictions'] = 0\n",
    "valid['Predictions'] = preds\n",
    "plt.plot(train['India'])\n",
    "plt.plot(valid[['India', 'Predictions']])"
   ]
  },
  {
   "cell_type": "markdown",
   "metadata": {},
   "source": [
    "**Mexico**"
   ]
  },
  {
   "cell_type": "code",
   "execution_count": 13,
   "metadata": {},
   "outputs": [
    {
     "name": "stdout",
     "output_type": "stream",
     "text": [
      "\n",
      " RMSE value on validation set:\n",
      "0.0006031317687650201\n"
     ]
    },
    {
     "name": "stderr",
     "output_type": "stream",
     "text": [
      "C:\\Users\\akash\\Anaconda3\\lib\\site-packages\\ipykernel_launcher.py:38: SettingWithCopyWarning: \n",
      "A value is trying to be set on a copy of a slice from a DataFrame.\n",
      "Try using .loc[row_indexer,col_indexer] = value instead\n",
      "\n",
      "See the caveats in the documentation: http://pandas.pydata.org/pandas-docs/stable/user_guide/indexing.html#returning-a-view-versus-a-copy\n",
      "C:\\Users\\akash\\Anaconda3\\lib\\site-packages\\ipykernel_launcher.py:39: SettingWithCopyWarning: \n",
      "A value is trying to be set on a copy of a slice from a DataFrame.\n",
      "Try using .loc[row_indexer,col_indexer] = value instead\n",
      "\n",
      "See the caveats in the documentation: http://pandas.pydata.org/pandas-docs/stable/user_guide/indexing.html#returning-a-view-versus-a-copy\n"
     ]
    },
    {
     "data": {
      "text/plain": [
       "[<matplotlib.lines.Line2D at 0x2566ba67860>,\n",
       " <matplotlib.lines.Line2D at 0x2566ba679b0>]"
      ]
     },
     "execution_count": 13,
     "metadata": {},
     "output_type": "execute_result"
    },
    {
     "data": {
      "image/png": "[encoded data removed]",
      "text/plain": [
       "<Figure size 432x288 with 1 Axes>"
      ]
     },
     "metadata": {
      "needs_background": "light"
     },
     "output_type": "display_data"
    }
   ],
   "source": [
    "#Predicting for Mexico based on moving average\n",
    "# reading the data\n",
    "df = pd.read_csv('file.csv')\n",
    "\n",
    "# looking at the first five rows of the data\n",
    "#print(df.head())\n",
    "#print('\\n Shape of the data:')\n",
    "#print(df.shape)\n",
    "\n",
    "df.index = df['Year']\n",
    "\n",
    "data = df.sort_index(ascending=True, axis=0)\n",
    "#creating dataframe with date and the target variable\n",
    "new_data_Mexico = df[[\"Mexico\"]]\n",
    "\n",
    "train = new_data_Mexico[:12]\n",
    "valid = new_data_Mexico[12:]\n",
    "\n",
    "# shapes of training set\n",
    "#print('\\n Shape of training set:')\n",
    "#print(train.shape)\n",
    "\n",
    "# shapes of validation set\n",
    "#print('\\n Shape of validation set:')\n",
    "#print(valid.shape)\n",
    "preds = []\n",
    "for i in range(0,valid.shape[0]):\n",
    "    a = train['Mexico'][len(train)-7+i:].sum() + sum(preds)\n",
    "    b = a/7\n",
    "    preds.append(b)\n",
    "\n",
    "# checking the results (RMSE value)\n",
    "rms=np.sqrt(np.mean(np.power((np.array(valid['Mexico'])-preds),2)))\n",
    "print('\\n RMSE value on validation set:')\n",
    "print(rms)\n",
    "\n",
    "#plot\n",
    "valid['Predictions'] = 0\n",
    "valid['Predictions'] = preds\n",
    "plt.plot(train['Mexico'])\n",
    "plt.plot(valid[['Mexico', 'Predictions']])"
   ]
  },
  {
   "cell_type": "markdown",
   "metadata": {},
   "source": [
    "**United States**"
   ]
  },
  {
   "cell_type": "code",
   "execution_count": 14,
   "metadata": {},
   "outputs": [
    {
     "name": "stdout",
     "output_type": "stream",
     "text": [
      "\n",
      " RMSE value on validation set:\n",
      "0.001773262783105857\n"
     ]
    },
    {
     "name": "stderr",
     "output_type": "stream",
     "text": [
      "C:\\Users\\akash\\Anaconda3\\lib\\site-packages\\ipykernel_launcher.py:38: SettingWithCopyWarning: \n",
      "A value is trying to be set on a copy of a slice from a DataFrame.\n",
      "Try using .loc[row_indexer,col_indexer] = value instead\n",
      "\n",
      "See the caveats in the documentation: http://pandas.pydata.org/pandas-docs/stable/user_guide/indexing.html#returning-a-view-versus-a-copy\n",
      "C:\\Users\\akash\\Anaconda3\\lib\\site-packages\\ipykernel_launcher.py:39: SettingWithCopyWarning: \n",
      "A value is trying to be set on a copy of a slice from a DataFrame.\n",
      "Try using .loc[row_indexer,col_indexer] = value instead\n",
      "\n",
      "See the caveats in the documentation: http://pandas.pydata.org/pandas-docs/stable/user_guide/indexing.html#returning-a-view-versus-a-copy\n"
     ]
    },
    {
     "data": {
      "text/plain": [
       "[<matplotlib.lines.Line2D at 0x2566bad4f28>,\n",
       " <matplotlib.lines.Line2D at 0x2566bae20b8>]"
      ]
     },
     "execution_count": 14,
     "metadata": {},
     "output_type": "execute_result"
    },
    {
     "data": {
      "image/png": "[encoded data removed]",
      "text/plain": [
       "<Figure size 432x288 with 1 Axes>"
      ]
     },
     "metadata": {
      "needs_background": "light"
     },
     "output_type": "display_data"
    }
   ],
   "source": [
    "#Predicting for United States based on moving average\n",
    "# reading the data\n",
    "df = pd.read_csv('file.csv')\n",
    "\n",
    "# looking at the first five rows of the data\n",
    "#print(df.head())\n",
    "#print('\\n Shape of the data:')\n",
    "#print(df.shape)\n",
    "\n",
    "df.index = df['Year']\n",
    "\n",
    "data = df.sort_index(ascending=True, axis=0)\n",
    "#creating dataframe with date and the target variable\n",
    "new_data_Us = df[[\"United States\"]]\n",
    "\n",
    "train = new_data_Us[:12]\n",
    "valid = new_data_Us[12:]\n",
    "\n",
    "# shapes of training set\n",
    "#print('\\n Shape of training set:')\n",
    "#print(train.shape)\n",
    "\n",
    "# shapes of validation set\n",
    "#print('\\n Shape of validation set:')\n",
    "#print(valid.shape)\n",
    "preds = []\n",
    "for i in range(0,valid.shape[0]):\n",
    "    a = train['United States'][len(train)-7+i:].sum() + sum(preds)\n",
    "    b = a/7\n",
    "    preds.append(b)\n",
    "\n",
    "# checking the results (RMSE value)\n",
    "rms=np.sqrt(np.mean(np.power((np.array(valid['United States'])-preds),2)))\n",
    "print('\\n RMSE value on validation set:')\n",
    "print(rms)\n",
    "\n",
    "#plot\n",
    "valid['Predictions'] = 0\n",
    "valid['Predictions'] = preds\n",
    "plt.plot(train['United States'])\n",
    "plt.plot(valid[['United States', 'Predictions']])"
   ]
  },
  {
   "cell_type": "markdown",
   "metadata": {},
   "source": [
    "**United Kingdom**"
   ]
  },
  {
   "cell_type": "code",
   "execution_count": 15,
   "metadata": {},
   "outputs": [
    {
     "name": "stdout",
     "output_type": "stream",
     "text": [
      "\n",
      " RMSE value on validation set:\n",
      "0.0010323355703776079\n"
     ]
    },
    {
     "name": "stderr",
     "output_type": "stream",
     "text": [
      "C:\\Users\\akash\\Anaconda3\\lib\\site-packages\\ipykernel_launcher.py:38: SettingWithCopyWarning: \n",
      "A value is trying to be set on a copy of a slice from a DataFrame.\n",
      "Try using .loc[row_indexer,col_indexer] = value instead\n",
      "\n",
      "See the caveats in the documentation: http://pandas.pydata.org/pandas-docs/stable/user_guide/indexing.html#returning-a-view-versus-a-copy\n",
      "C:\\Users\\akash\\Anaconda3\\lib\\site-packages\\ipykernel_launcher.py:39: SettingWithCopyWarning: \n",
      "A value is trying to be set on a copy of a slice from a DataFrame.\n",
      "Try using .loc[row_indexer,col_indexer] = value instead\n",
      "\n",
      "See the caveats in the documentation: http://pandas.pydata.org/pandas-docs/stable/user_guide/indexing.html#returning-a-view-versus-a-copy\n"
     ]
    },
    {
     "data": {
      "text/plain": [
       "[<matplotlib.lines.Line2D at 0x2566bb485c0>,\n",
       " <matplotlib.lines.Line2D at 0x2566bb48710>]"
      ]
     },
     "execution_count": 15,
     "metadata": {},
     "output_type": "execute_result"
    },
    {
     "data": {
      "image/png": "[encoded data removed]",
      "text/plain": [
       "<Figure size 432x288 with 1 Axes>"
      ]
     },
     "metadata": {
      "needs_background": "light"
     },
     "output_type": "display_data"
    }
   ],
   "source": [
    "#Predicting for United Kingdom based on moving average\n",
    "# reading the data\n",
    "df = pd.read_csv('file.csv')\n",
    "\n",
    "# looking at the first five rows of the data\n",
    "#print(df.head())\n",
    "#print('\\n Shape of the data:')\n",
    "#print(df.shape)\n",
    "\n",
    "df.index = df['Year']\n",
    "\n",
    "data = df.sort_index(ascending=True, axis=0)\n",
    "#creating dataframe with date and the target variable\n",
    "new_data_Uk = df[[\"United Kingdom\"]]\n",
    "\n",
    "train = new_data_Uk[:12]\n",
    "valid = new_data_Uk[12:]\n",
    "\n",
    "# shapes of training set\n",
    "#print('\\n Shape of training set:')\n",
    "#print(train.shape)\n",
    "\n",
    "# shapes of validation set\n",
    "#print('\\n Shape of validation set:')\n",
    "#print(valid.shape)\n",
    "preds = []\n",
    "for i in range(0,valid.shape[0]):\n",
    "    a = train['United Kingdom'][len(train)-7+i:].sum() + sum(preds)\n",
    "    b = a/7\n",
    "    preds.append(b)\n",
    "\n",
    "# checking the results (RMSE value)\n",
    "rms=np.sqrt(np.mean(np.power((np.array(valid['United Kingdom'])-preds),2)))\n",
    "print('\\n RMSE value on validation set:')\n",
    "print(rms)\n",
    "\n",
    "#plot\n",
    "valid['Predictions'] = 0\n",
    "valid['Predictions'] = preds\n",
    "plt.plot(train['United Kingdom'])\n",
    "plt.plot(valid[['United Kingdom', 'Predictions']])"
   ]
  },
  {
   "cell_type": "markdown",
   "metadata": {},
   "source": [
    "**Prediction of carbonfootprint based on Auto ARIMA**"
   ]
  },
  {
   "cell_type": "markdown",
   "metadata": {},
   "source": [
    "**China**"
   ]
  },
  {
   "cell_type": "code",
   "execution_count": 17,
   "metadata": {
    "scrolled": false
   },
   "outputs": [
    {
     "name": "stdout",
     "output_type": "stream",
     "text": [
      "         China\n",
      "Year          \n",
      "1990  0.003359\n",
      "1991  0.002246\n",
      "1992  0.002314\n",
      "1993  0.002443\n",
      "1994  0.002566\n",
      "1995  0.003979\n",
      "1996  0.002844\n",
      "1997  0.002821\n",
      "1998  0.002677\n",
      "1999  0.002649\n",
      "2000  0.003847\n",
      "2001  0.002742\n",
      "         China\n",
      "Year          \n",
      "2002  0.002885\n",
      "2003  0.003512\n",
      "2004  0.004080\n",
      "2005  0.005822\n",
      "2006  0.004893\n",
      "2007  0.005154\n",
      "2008  0.005308\n",
      "Fit ARIMA: order=(1, 1, 1) seasonal_order=(0, 0, 1, 12); AIC=nan, BIC=nan, Fit time=nan seconds\n",
      "Fit ARIMA: order=(0, 1, 0) seasonal_order=(0, 0, 0, 12); AIC=-121.412, BIC=-120.617, Fit time=0.110 seconds\n",
      "Fit ARIMA: order=(1, 1, 0) seasonal_order=(1, 0, 0, 12); AIC=nan, BIC=nan, Fit time=nan seconds\n",
      "Fit ARIMA: order=(0, 1, 1) seasonal_order=(0, 0, 1, 12); AIC=nan, BIC=nan, Fit time=nan seconds\n",
      "Fit ARIMA: order=(0, 1, 0) seasonal_order=(1, 0, 0, 12); AIC=nan, BIC=nan, Fit time=nan seconds\n",
      "Fit ARIMA: order=(0, 1, 0) seasonal_order=(0, 0, 1, 12); AIC=nan, BIC=nan, Fit time=nan seconds\n",
      "Fit ARIMA: order=(0, 1, 0) seasonal_order=(1, 0, 1, 12); AIC=nan, BIC=nan, Fit time=nan seconds\n",
      "Fit ARIMA: order=(1, 1, 0) seasonal_order=(0, 0, 0, 12); AIC=-121.825, BIC=-120.631, Fit time=0.134 seconds\n",
      "Fit ARIMA: order=(1, 1, 1) seasonal_order=(0, 0, 0, 12); AIC=-122.078, BIC=-120.486, Fit time=0.259 seconds\n",
      "Fit ARIMA: order=(2, 1, 2) seasonal_order=(0, 0, 0, 12); AIC=nan, BIC=nan, Fit time=nan seconds\n",
      "Fit ARIMA: order=(1, 1, 1) seasonal_order=(1, 0, 0, 12); AIC=nan, BIC=nan, Fit time=nan seconds\n",
      "Fit ARIMA: order=(1, 1, 1) seasonal_order=(1, 0, 1, 12); AIC=nan, BIC=nan, Fit time=nan seconds\n",
      "Fit ARIMA: order=(0, 1, 1) seasonal_order=(0, 0, 0, 12); AIC=-124.548, BIC=-123.354, Fit time=0.254 seconds\n",
      "Fit ARIMA: order=(0, 1, 2) seasonal_order=(0, 0, 0, 12); AIC=-117.411, BIC=-115.819, Fit time=0.254 seconds\n",
      "Fit ARIMA: order=(1, 1, 2) seasonal_order=(0, 0, 0, 12); AIC=-119.851, BIC=-117.861, Fit time=0.735 seconds\n",
      "Fit ARIMA: order=(0, 1, 1) seasonal_order=(1, 0, 0, 12); AIC=nan, BIC=nan, Fit time=nan seconds\n",
      "Fit ARIMA: order=(0, 1, 1) seasonal_order=(1, 0, 1, 12); AIC=nan, BIC=nan, Fit time=nan seconds\n",
      "Total fit time: 1.785 seconds\n",
      "      Prediction\n",
      "Year            \n",
      "2009    0.003085\n",
      "2010    0.003113\n",
      "2011    0.003142\n",
      "2012    0.003170\n",
      "2013    0.003199\n",
      "2014    0.003227\n",
      "2015    0.003256\n",
      "2016    0.003285\n",
      "2017    0.003313\n",
      "2018    0.003342\n",
      "2019    0.003370\n",
      "2020    0.003399\n",
      "2021    0.003427\n",
      "2022    0.003456\n",
      "2023    0.003485\n",
      "2024    0.003513\n",
      "2025    0.003542\n",
      "2026    0.003570\n",
      "2027    0.003599\n",
      "0.001643315649237905\n",
      "0.003345416108715191\n"
     ]
    },
    {
     "data": {
      "text/plain": [
       "[<matplotlib.lines.Line2D at 0x2566f890da0>]"
      ]
     },
     "execution_count": 17,
     "metadata": {},
     "output_type": "execute_result"
    },
    {
     "data": {
      "image/png": "[encoded data removed]",
      "text/plain": [
       "<Figure size 576x288 with 1 Axes>"
      ]
     },
     "metadata": {
      "needs_background": "light"
     },
     "output_type": "display_data"
    }
   ],
   "source": [
    "from pmdarima.arima import auto_arima\n",
    "\n",
    "data = df.sort_index(ascending=True, axis=0)\n",
    "new_data_china= df[[\"China\"]]\n",
    "df2 = pd.read_csv('testfile.csv')\n",
    "\n",
    "# looking at the first five rows of the data\n",
    "#print(df.head())\n",
    "#print('\\n Shape of the data:')\n",
    "#print(df.shape)\n",
    "\n",
    "df2.index = df2['Year']\n",
    "\n",
    "data = df.sort_index(ascending=True, axis=0)\n",
    "#creating dataframe with date and the target variable\n",
    "new_data_ch = df2[[\"China\"]]\n",
    "\n",
    "test = new_data_ch[:19]\n",
    "train = new_data_china[:12]\n",
    "valid = new_data_china[12:]\n",
    "\n",
    "\n",
    "training = train\n",
    "print(training)\n",
    "validation = valid\n",
    "print(validation)\n",
    "testing = test\n",
    "\n",
    "\n",
    "model = auto_arima(training, start_p=1, start_q=1,max_p=3, max_q=3, m=12,start_P=0, seasonal=True,d=1, D=0, trace=True,error_action='ignore',suppress_warnings=True)\n",
    "model.fit(training)\n",
    "\n",
    "forecast = model.predict(n_periods=7)\n",
    "forecast = pd.DataFrame(forecast,index = valid.index,columns=['Prediction'])\n",
    "\n",
    "forecast2 = model.predict(n_periods=19)\n",
    "forecast2 = pd.DataFrame(forecast2,index = test.index,columns=['Prediction'])\n",
    "print(forecast2)\n",
    "\n",
    "rms=np.sqrt(np.mean(np.power((np.array(valid['China'])-np.array(forecast['Prediction'])),2)))\n",
    "print(rms)\n",
    "\n",
    "rms2=np.sqrt(np.mean(np.power((np.array(test['China'])-np.array(forecast2['Prediction'])),2)))\n",
    "print(rms2)\n",
    "#plot\n",
    "plt.figure(figsize=(8,4))\n",
    "plt.plot(train['China'])\n",
    "plt.plot(valid['China'])\n",
    "plt.plot(forecast['Prediction'])"
   ]
  },
  {
   "cell_type": "markdown",
   "metadata": {},
   "source": [
    "**India**"
   ]
  },
  {
   "cell_type": "code",
   "execution_count": 18,
   "metadata": {},
   "outputs": [
    {
     "name": "stdout",
     "output_type": "stream",
     "text": [
      "         India\n",
      "Year          \n",
      "1990  0.001623\n",
      "1991  0.000852\n",
      "1992  0.000888\n",
      "1993  0.000905\n",
      "1994  0.000945\n",
      "1995  0.001772\n",
      "1996  0.001056\n",
      "1997  0.001081\n",
      "1998  0.001091\n",
      "1999  0.001146\n",
      "2000  0.001922\n",
      "2001  0.001166\n",
      "         India\n",
      "Year          \n",
      "2002  0.001170\n",
      "2003  0.001204\n",
      "2004  0.001247\n",
      "2005  0.002017\n",
      "2006  0.001356\n",
      "2007  0.001434\n",
      "2008  0.001529\n",
      "Fit ARIMA: order=(1, 1, 1) seasonal_order=(0, 0, 1, 12); AIC=nan, BIC=nan, Fit time=nan seconds\n",
      "Fit ARIMA: order=(0, 1, 0) seasonal_order=(0, 0, 0, 12); AIC=-131.212, BIC=-130.417, Fit time=0.050 seconds\n",
      "Fit ARIMA: order=(1, 1, 0) seasonal_order=(1, 0, 0, 12); AIC=nan, BIC=nan, Fit time=nan seconds\n",
      "Fit ARIMA: order=(0, 1, 1) seasonal_order=(0, 0, 1, 12); AIC=nan, BIC=nan, Fit time=nan seconds\n",
      "Fit ARIMA: order=(0, 1, 0) seasonal_order=(1, 0, 0, 12); AIC=nan, BIC=nan, Fit time=nan seconds\n",
      "Fit ARIMA: order=(0, 1, 0) seasonal_order=(0, 0, 1, 12); AIC=nan, BIC=nan, Fit time=nan seconds\n",
      "Fit ARIMA: order=(0, 1, 0) seasonal_order=(1, 0, 1, 12); AIC=nan, BIC=nan, Fit time=nan seconds\n",
      "Fit ARIMA: order=(1, 1, 0) seasonal_order=(0, 0, 0, 12); AIC=-131.775, BIC=-130.581, Fit time=0.193 seconds\n",
      "Fit ARIMA: order=(1, 1, 1) seasonal_order=(0, 0, 0, 12); AIC=-132.606, BIC=-131.014, Fit time=0.171 seconds\n",
      "Fit ARIMA: order=(2, 1, 2) seasonal_order=(0, 0, 0, 12); AIC=nan, BIC=nan, Fit time=nan seconds\n",
      "Fit ARIMA: order=(1, 1, 1) seasonal_order=(1, 0, 0, 12); AIC=nan, BIC=nan, Fit time=nan seconds\n",
      "Fit ARIMA: order=(1, 1, 1) seasonal_order=(1, 0, 1, 12); AIC=nan, BIC=nan, Fit time=nan seconds\n",
      "Fit ARIMA: order=(0, 1, 1) seasonal_order=(0, 0, 0, 12); AIC=-134.866, BIC=-133.672, Fit time=0.190 seconds\n",
      "Fit ARIMA: order=(0, 1, 2) seasonal_order=(0, 0, 0, 12); AIC=-127.212, BIC=-125.621, Fit time=0.257 seconds\n",
      "Fit ARIMA: order=(1, 1, 2) seasonal_order=(0, 0, 0, 12); AIC=-127.213, BIC=-125.224, Fit time=0.604 seconds\n",
      "Fit ARIMA: order=(0, 1, 1) seasonal_order=(1, 0, 0, 12); AIC=nan, BIC=nan, Fit time=nan seconds\n",
      "Fit ARIMA: order=(0, 1, 1) seasonal_order=(1, 0, 1, 12); AIC=nan, BIC=nan, Fit time=nan seconds\n",
      "Total fit time: 1.516 seconds\n",
      "      Prediction\n",
      "Year            \n",
      "2009    0.001349\n",
      "2010    0.001369\n",
      "2011    0.001389\n",
      "2012    0.001408\n",
      "2013    0.001428\n",
      "2014    0.001448\n",
      "2015    0.001468\n",
      "2016    0.001488\n",
      "2017    0.001508\n",
      "2018    0.001528\n",
      "2019    0.001547\n",
      "2020    0.001567\n",
      "2021    0.001587\n",
      "2022    0.001607\n",
      "2023    0.001627\n",
      "2024    0.001647\n",
      "2025    0.001667\n",
      "2026    0.001686\n",
      "2027    0.001706\n",
      "0.00025603619677903557\n",
      "0.0015314415320445524\n"
     ]
    },
    {
     "data": {
      "text/plain": [
       "[<matplotlib.lines.Line2D at 0x2566f995a58>]"
      ]
     },
     "execution_count": 18,
     "metadata": {},
     "output_type": "execute_result"
    },
    {
     "data": {
      "image/png": "[encoded data removed]",
      "text/plain": [
       "<Figure size 576x288 with 1 Axes>"
      ]
     },
     "metadata": {
      "needs_background": "light"
     },
     "output_type": "display_data"
    }
   ],
   "source": [
    "from pmdarima.arima import auto_arima\n",
    "\n",
    "data = df.sort_index(ascending=True, axis=0)\n",
    "new_data_india= df[[\"India\"]]\n",
    "df2 = pd.read_csv('testfile.csv')\n",
    "\n",
    "# looking at the first five rows of the data\n",
    "#print(df.head())\n",
    "#print('\\n Shape of the data:')\n",
    "#print(df.shape)\n",
    "\n",
    "df2.index = df2['Year']\n",
    "\n",
    "data = df.sort_index(ascending=True, axis=0)\n",
    "#creating dataframe with date and the target variable\n",
    "new_data_Ind = df2[[\"India\"]]\n",
    "\n",
    "test = new_data_Ind[:19]\n",
    "train = new_data_india[:12]\n",
    "valid = new_data_india[12:]\n",
    "\n",
    "\n",
    "training = train\n",
    "print(training)\n",
    "validation = valid\n",
    "print(validation)\n",
    "testing = test\n",
    "\n",
    "model = auto_arima(training, start_p=1, start_q=1,max_p=3, max_q=3, m=12,start_P=0, seasonal=True,d=1, D=0, trace=True,error_action='ignore',suppress_warnings=True)\n",
    "model.fit(training)\n",
    "\n",
    "forecast = model.predict(n_periods=7)\n",
    "forecast = pd.DataFrame(forecast,index = valid.index,columns=['Prediction'])\n",
    "\n",
    "forecast2 = model.predict(n_periods=19)\n",
    "forecast2 = pd.DataFrame(forecast2,index = test.index,columns=['Prediction'])\n",
    "print(forecast2)\n",
    "\n",
    "rms=np.sqrt(np.mean(np.power((np.array(valid['India'])-np.array(forecast['Prediction'])),2)))\n",
    "print(rms)\n",
    "\n",
    "rms2=np.sqrt(np.mean(np.power((np.array(test['India'])-np.array(forecast2['Prediction'])),2)))\n",
    "print(rms2)\n",
    "#plot\n",
    "plt.figure(figsize=(8,4))\n",
    "plt.plot(train['India'])\n",
    "plt.plot(valid['India'])\n",
    "plt.plot(forecast['Prediction'])"
   ]
  },
  {
   "cell_type": "markdown",
   "metadata": {},
   "source": [
    "**Mexico**"
   ]
  },
  {
   "cell_type": "code",
   "execution_count": 19,
   "metadata": {},
   "outputs": [
    {
     "name": "stdout",
     "output_type": "stream",
     "text": [
      "        Mexico\n",
      "Year          \n",
      "1990  0.005530\n",
      "1991  0.003917\n",
      "1992  0.003915\n",
      "1993  0.003832\n",
      "1994  0.003996\n",
      "1995  0.005272\n",
      "1996  0.003781\n",
      "1997  0.003789\n",
      "1998  0.003837\n",
      "1999  0.003866\n",
      "2000  0.005427\n",
      "2001  0.003884\n",
      "        Mexico\n",
      "Year          \n",
      "2002  0.003808\n",
      "2003  0.003870\n",
      "2004  0.003857\n",
      "2005  0.005666\n",
      "2006  0.004096\n",
      "2007  0.004119\n",
      "2008  0.004301\n",
      "Fit ARIMA: order=(1, 1, 1) seasonal_order=(0, 0, 1, 12); AIC=nan, BIC=nan, Fit time=nan seconds\n",
      "Fit ARIMA: order=(0, 1, 0) seasonal_order=(0, 0, 0, 12); AIC=-116.698, BIC=-115.902, Fit time=0.045 seconds\n",
      "Fit ARIMA: order=(1, 1, 0) seasonal_order=(1, 0, 0, 12); AIC=nan, BIC=nan, Fit time=nan seconds\n",
      "Fit ARIMA: order=(0, 1, 1) seasonal_order=(0, 0, 1, 12); AIC=nan, BIC=nan, Fit time=nan seconds\n",
      "Fit ARIMA: order=(0, 1, 0) seasonal_order=(1, 0, 0, 12); AIC=nan, BIC=nan, Fit time=nan seconds\n",
      "Fit ARIMA: order=(0, 1, 0) seasonal_order=(0, 0, 1, 12); AIC=nan, BIC=nan, Fit time=nan seconds\n",
      "Fit ARIMA: order=(0, 1, 0) seasonal_order=(1, 0, 1, 12); AIC=nan, BIC=nan, Fit time=nan seconds\n",
      "Fit ARIMA: order=(1, 1, 0) seasonal_order=(0, 0, 0, 12); AIC=-116.957, BIC=-115.764, Fit time=0.110 seconds\n",
      "Fit ARIMA: order=(1, 1, 1) seasonal_order=(0, 0, 0, 12); AIC=-117.502, BIC=-115.910, Fit time=0.379 seconds\n",
      "Fit ARIMA: order=(2, 1, 2) seasonal_order=(0, 0, 0, 12); AIC=nan, BIC=nan, Fit time=nan seconds\n",
      "Fit ARIMA: order=(1, 1, 1) seasonal_order=(1, 0, 0, 12); AIC=nan, BIC=nan, Fit time=nan seconds\n",
      "Fit ARIMA: order=(1, 1, 1) seasonal_order=(1, 0, 1, 12); AIC=nan, BIC=nan, Fit time=nan seconds\n",
      "Fit ARIMA: order=(0, 1, 1) seasonal_order=(0, 0, 0, 12); AIC=-119.706, BIC=-118.512, Fit time=0.219 seconds\n",
      "Fit ARIMA: order=(0, 1, 2) seasonal_order=(0, 0, 0, 12); AIC=-112.697, BIC=-111.105, Fit time=0.216 seconds\n",
      "Fit ARIMA: order=(1, 1, 2) seasonal_order=(0, 0, 0, 12); AIC=-112.999, BIC=-111.009, Fit time=0.623 seconds\n",
      "Fit ARIMA: order=(0, 1, 1) seasonal_order=(1, 0, 0, 12); AIC=nan, BIC=nan, Fit time=nan seconds\n",
      "Fit ARIMA: order=(0, 1, 1) seasonal_order=(1, 0, 1, 12); AIC=nan, BIC=nan, Fit time=nan seconds\n",
      "Total fit time: 1.636 seconds\n",
      "      Prediction\n",
      "Year            \n",
      "2009    0.004100\n",
      "2010    0.004067\n",
      "2011    0.004035\n",
      "2012    0.004002\n",
      "2013    0.003970\n",
      "2014    0.003937\n",
      "2015    0.003905\n",
      "2016    0.003872\n",
      "2017    0.003840\n",
      "2018    0.003807\n",
      "2019    0.003775\n",
      "2020    0.003742\n",
      "2021    0.003710\n",
      "2022    0.003677\n",
      "2023    0.003645\n",
      "2024    0.003612\n",
      "2025    0.003580\n",
      "2026    0.003547\n",
      "2027    0.003515\n",
      "0.0006688242238025639\n",
      "0.003811434823172811\n"
     ]
    },
    {
     "data": {
      "text/plain": [
       "[<matplotlib.lines.Line2D at 0x2566fa087b8>]"
      ]
     },
     "execution_count": 19,
     "metadata": {},
     "output_type": "execute_result"
    },
    {
     "data": {
      "image/png": "[encoded data removed]",
      "text/plain": [
       "<Figure size 576x288 with 1 Axes>"
      ]
     },
     "metadata": {
      "needs_background": "light"
     },
     "output_type": "display_data"
    }
   ],
   "source": [
    "from pmdarima.arima import auto_arima\n",
    "\n",
    "data = df.sort_index(ascending=True, axis=0)\n",
    "new_data_mexico= df[[\"Mexico\"]]\n",
    "df2 = pd.read_csv('testfile.csv')\n",
    "\n",
    "# looking at the first five rows of the data\n",
    "#print(df.head())\n",
    "#print('\\n Shape of the data:')\n",
    "#print(df.shape)\n",
    "\n",
    "df2.index = df2['Year']\n",
    "\n",
    "data = df.sort_index(ascending=True, axis=0)\n",
    "#creating dataframe with date and the target variable\n",
    "new_data_mx = df2[[\"Mexico\"]]\n",
    "\n",
    "test = new_data_mx[:19]\n",
    "train = new_data_mexico[:12]\n",
    "valid = new_data_mexico[12:]\n",
    "\n",
    "\n",
    "training = train\n",
    "print(training)\n",
    "validation = valid\n",
    "print(validation)\n",
    "testing = test\n",
    "\n",
    "model = auto_arima(training, start_p=1, start_q=1,max_p=3, max_q=3, m=12,start_P=0, seasonal=True,d=1, D=0, trace=True,error_action='ignore',suppress_warnings=True)\n",
    "model.fit(training)\n",
    "\n",
    "forecast = model.predict(n_periods=7)\n",
    "forecast = pd.DataFrame(forecast,index = valid.index,columns=['Prediction'])\n",
    "\n",
    "forecast2 = model.predict(n_periods=19)\n",
    "forecast2 = pd.DataFrame(forecast2,index = test.index,columns=['Prediction'])\n",
    "print(forecast2)\n",
    "\n",
    "rms=np.sqrt(np.mean(np.power((np.array(valid['Mexico'])-np.array(forecast['Prediction'])),2)))\n",
    "print(rms)\n",
    "\n",
    "rms2=np.sqrt(np.mean(np.power((np.array(test['Mexico'])-np.array(forecast2['Prediction'])),2)))\n",
    "print(rms2)\n",
    "#plot\n",
    "plt.figure(figsize=(8,4))\n",
    "plt.plot(train['Mexico'])\n",
    "plt.plot(valid[\"Mexico\"])\n",
    "plt.plot(forecast[\"Prediction\"])"
   ]
  },
  {
   "cell_type": "markdown",
   "metadata": {},
   "source": [
    "**United States**"
   ]
  },
  {
   "cell_type": "code",
   "execution_count": 20,
   "metadata": {},
   "outputs": [
    {
     "name": "stdout",
     "output_type": "stream",
     "text": [
      "      United States\n",
      "Year               \n",
      "1990       0.023361\n",
      "1991       0.019251\n",
      "1992       0.019009\n",
      "1993       0.019881\n",
      "1994       0.019866\n",
      "1995       0.023285\n",
      "1996       0.019835\n",
      "1997       0.020177\n",
      "1998       0.019753\n",
      "1999       0.019811\n",
      "2000       0.022694\n",
      "2001       0.018907\n",
      "      United States\n",
      "Year               \n",
      "2002       0.018894\n",
      "2003       0.018847\n",
      "2004       0.018986\n",
      "2005       0.021845\n",
      "2006       0.018469\n",
      "2007       0.018508\n",
      "2008       0.017942\n",
      "Fit ARIMA: order=(1, 1, 1) seasonal_order=(0, 0, 1, 12); AIC=nan, BIC=nan, Fit time=nan seconds\n",
      "Fit ARIMA: order=(0, 1, 0) seasonal_order=(0, 0, 0, 12); AIC=-97.654, BIC=-96.858, Fit time=0.081 seconds\n",
      "Fit ARIMA: order=(1, 1, 0) seasonal_order=(1, 0, 0, 12); AIC=nan, BIC=nan, Fit time=nan seconds\n",
      "Fit ARIMA: order=(0, 1, 1) seasonal_order=(0, 0, 1, 12); AIC=nan, BIC=nan, Fit time=nan seconds\n",
      "Fit ARIMA: order=(0, 1, 0) seasonal_order=(1, 0, 0, 12); AIC=nan, BIC=nan, Fit time=nan seconds\n",
      "Fit ARIMA: order=(0, 1, 0) seasonal_order=(0, 0, 1, 12); AIC=nan, BIC=nan, Fit time=nan seconds\n",
      "Fit ARIMA: order=(0, 1, 0) seasonal_order=(1, 0, 1, 12); AIC=nan, BIC=nan, Fit time=nan seconds\n",
      "Fit ARIMA: order=(1, 1, 0) seasonal_order=(0, 0, 0, 12); AIC=-98.065, BIC=-96.872, Fit time=0.146 seconds\n",
      "Fit ARIMA: order=(1, 1, 1) seasonal_order=(0, 0, 0, 12); AIC=-97.722, BIC=-96.131, Fit time=0.503 seconds\n",
      "Fit ARIMA: order=(2, 1, 1) seasonal_order=(0, 0, 0, 12); AIC=-96.100, BIC=-94.110, Fit time=0.325 seconds\n",
      "Fit ARIMA: order=(1, 1, 0) seasonal_order=(0, 0, 1, 12); AIC=nan, BIC=nan, Fit time=nan seconds\n",
      "Fit ARIMA: order=(1, 1, 0) seasonal_order=(1, 0, 1, 12); AIC=nan, BIC=nan, Fit time=nan seconds\n",
      "Fit ARIMA: order=(2, 1, 0) seasonal_order=(0, 0, 0, 12); AIC=-96.505, BIC=-94.914, Fit time=0.252 seconds\n",
      "Total fit time: 1.341 seconds\n",
      "      Prediction\n",
      "Year            \n",
      "2009    0.020388\n",
      "2010    0.019418\n",
      "2011    0.019589\n",
      "2012    0.019229\n",
      "2013    0.019116\n",
      "2014    0.018888\n",
      "2015    0.018714\n",
      "2016    0.018515\n",
      "2017    0.018327\n",
      "2018    0.018134\n",
      "2019    0.017943\n",
      "2020    0.017751\n",
      "2021    0.017560\n",
      "2022    0.017369\n",
      "2023    0.017177\n",
      "2024    0.016986\n",
      "2025    0.016795\n",
      "2026    0.016603\n",
      "2027    0.016412\n",
      "0.0012490162324405813\n",
      "0.018185992737833032\n"
     ]
    },
    {
     "data": {
      "text/plain": [
       "[<matplotlib.lines.Line2D at 0x2566fa668d0>]"
      ]
     },
     "execution_count": 20,
     "metadata": {},
     "output_type": "execute_result"
    },
    {
     "data": {
      "image/png": "[encoded data removed]",
      "text/plain": [
       "<Figure size 576x288 with 1 Axes>"
      ]
     },
     "metadata": {
      "needs_background": "light"
     },
     "output_type": "display_data"
    }
   ],
   "source": [
    "from pmdarima.arima import auto_arima\n",
    "\n",
    "data = df.sort_index(ascending=True, axis=0)\n",
    "new_data_Us= df[[\"United States\"]]\n",
    "df2 = pd.read_csv('testfile.csv')\n",
    "\n",
    "# looking at the first five rows of the data\n",
    "#print(df.head())\n",
    "#print('\\n Shape of the data:')\n",
    "#print(df.shape)\n",
    "\n",
    "df2.index = df2['Year']\n",
    "\n",
    "data = df.sort_index(ascending=True, axis=0)\n",
    "#creating dataframe with date and the target variable\n",
    "new_data_u = df2[[\"United States\"]]\n",
    "\n",
    "test = new_data_u[:19]\n",
    "train = new_data_Us[:12]\n",
    "valid = new_data_Us[12:]\n",
    "\n",
    "\n",
    "training = train\n",
    "print(training)\n",
    "validation = valid\n",
    "print(validation)\n",
    "testing = test\n",
    "\n",
    "model = auto_arima(training, start_p=1, start_q=1,max_p=3, max_q=3, m=12,start_P=0, seasonal=True,d=1, D=0, trace=True,error_action='ignore',suppress_warnings=True)\n",
    "model.fit(training)\n",
    "\n",
    "forecast = model.predict(n_periods=7)\n",
    "forecast = pd.DataFrame(forecast,index = valid.index,columns=['Prediction'])\n",
    "\n",
    "forecast2 = model.predict(n_periods=19)\n",
    "forecast2 = pd.DataFrame(forecast2,index = test.index,columns=['Prediction'])\n",
    "print(forecast2)\n",
    "\n",
    "rms=np.sqrt(np.mean(np.power((np.array(valid['United States'])-np.array(forecast['Prediction'])),2)))\n",
    "print(rms)\n",
    "\n",
    "rms2=np.sqrt(np.mean(np.power((np.array(test['United States'])-np.array(forecast2['Prediction'])),2)))\n",
    "print(rms2)\n",
    "#plot\n",
    "plt.figure(figsize=(8,4))\n",
    "plt.plot(train['United States'])\n",
    "plt.plot(valid['United States'])\n",
    "plt.plot(forecast['Prediction'])"
   ]
  },
  {
   "cell_type": "markdown",
   "metadata": {},
   "source": [
    "**United Kingdom**"
   ]
  },
  {
   "cell_type": "code",
   "execution_count": 21,
   "metadata": {},
   "outputs": [
    {
     "name": "stdout",
     "output_type": "stream",
     "text": [
      "      United Kingdom\n",
      "Year                \n",
      "1990        0.012981\n",
      "1991        0.010341\n",
      "1992        0.010202\n",
      "1993        0.009833\n",
      "1994        0.009743\n",
      "1995        0.012399\n",
      "1996        0.009983\n",
      "1997        0.009504\n",
      "1998        0.009475\n",
      "1999        0.009126\n",
      "2000        0.011269\n",
      "2001        0.009314\n",
      "      United Kingdom\n",
      "Year                \n",
      "2002        0.008966\n",
      "2003        0.009076\n",
      "2004        0.009115\n",
      "2005        0.010607\n",
      "2006        0.008966\n",
      "2007        0.008684\n",
      "2008        0.008516\n",
      "Fit ARIMA: order=(1, 1, 1) seasonal_order=(0, 0, 1, 12); AIC=nan, BIC=nan, Fit time=nan seconds\n",
      "Fit ARIMA: order=(0, 1, 0) seasonal_order=(0, 0, 0, 12); AIC=-106.645, BIC=-105.849, Fit time=0.087 seconds\n",
      "Fit ARIMA: order=(1, 1, 0) seasonal_order=(1, 0, 0, 12); AIC=nan, BIC=nan, Fit time=nan seconds\n",
      "Fit ARIMA: order=(0, 1, 1) seasonal_order=(0, 0, 1, 12); AIC=nan, BIC=nan, Fit time=nan seconds\n",
      "Fit ARIMA: order=(0, 1, 0) seasonal_order=(1, 0, 0, 12); AIC=nan, BIC=nan, Fit time=nan seconds\n",
      "Fit ARIMA: order=(0, 1, 0) seasonal_order=(0, 0, 1, 12); AIC=nan, BIC=nan, Fit time=nan seconds\n",
      "Fit ARIMA: order=(0, 1, 0) seasonal_order=(1, 0, 1, 12); AIC=nan, BIC=nan, Fit time=nan seconds\n",
      "Fit ARIMA: order=(1, 1, 0) seasonal_order=(0, 0, 0, 12); AIC=-106.641, BIC=-105.447, Fit time=0.140 seconds\n",
      "Fit ARIMA: order=(0, 1, 1) seasonal_order=(0, 0, 0, 12); AIC=-109.238, BIC=-108.044, Fit time=0.308 seconds\n",
      "Fit ARIMA: order=(1, 1, 2) seasonal_order=(0, 0, 0, 12); AIC=-99.528, BIC=-97.538, Fit time=0.603 seconds\n",
      "Fit ARIMA: order=(0, 1, 1) seasonal_order=(1, 0, 0, 12); AIC=nan, BIC=nan, Fit time=nan seconds\n",
      "Fit ARIMA: order=(0, 1, 1) seasonal_order=(1, 0, 1, 12); AIC=nan, BIC=nan, Fit time=nan seconds\n",
      "Fit ARIMA: order=(1, 1, 1) seasonal_order=(0, 0, 0, 12); AIC=-107.322, BIC=-105.731, Fit time=0.326 seconds\n",
      "Fit ARIMA: order=(0, 1, 2) seasonal_order=(0, 0, 0, 12); AIC=-107.586, BIC=-105.995, Fit time=0.335 seconds\n",
      "Total fit time: 1.825 seconds\n",
      "      Prediction\n",
      "Year            \n",
      "2009    0.009369\n",
      "2010    0.009198\n",
      "2011    0.009028\n",
      "2012    0.008858\n",
      "2013    0.008688\n",
      "2014    0.008518\n",
      "2015    0.008348\n",
      "2016    0.008177\n",
      "2017    0.008007\n",
      "2018    0.007837\n",
      "2019    0.007667\n",
      "2020    0.007497\n",
      "2021    0.007326\n",
      "2022    0.007156\n",
      "2023    0.006986\n",
      "2024    0.006816\n",
      "2025    0.006646\n",
      "2026    0.006475\n",
      "2027    0.006305\n",
      "0.0006946698774654052\n",
      "0.007892175558842173\n"
     ]
    },
    {
     "data": {
      "text/plain": [
       "[<matplotlib.lines.Line2D at 0x2566faef3c8>]"
      ]
     },
     "execution_count": 21,
     "metadata": {},
     "output_type": "execute_result"
    },
    {
     "data": {
      "image/png": "[encoded data removed]",
      "text/plain": [
       "<Figure size 576x288 with 1 Axes>"
      ]
     },
     "metadata": {
      "needs_background": "light"
     },
     "output_type": "display_data"
    }
   ],
   "source": [
    "from pmdarima.arima import auto_arima\n",
    "\n",
    "data = df.sort_index(ascending=True, axis=0)\n",
    "new_data_Uk= df[[\"United Kingdom\"]]\n",
    "df2 = pd.read_csv('testfile.csv')\n",
    "\n",
    "# looking at the first five rows of the data\n",
    "#print(df.head())\n",
    "#print('\\n Shape of the data:')\n",
    "#print(df.shape)\n",
    "\n",
    "df2.index = df2['Year']\n",
    "new_data_un = df2[[\"United Kingdom\"]]\n",
    "data = df.sort_index(ascending=True, axis=0)\n",
    "#creating dataframe with date and the target variable\n",
    "\n",
    "\n",
    "test = new_data_un[:19]\n",
    "train = new_data_Uk[:12]\n",
    "valid = new_data_Uk[12:]\n",
    "\n",
    "\n",
    "training = train\n",
    "print(training)\n",
    "validation = valid\n",
    "print(validation)\n",
    "testing = test\n",
    "\n",
    "model = auto_arima(training, start_p=1, start_q=1,max_p=3, max_q=3, m=12,start_P=0, seasonal=True,d=1, D=0, trace=True,error_action='ignore',suppress_warnings=True)\n",
    "model.fit(training)\n",
    "\n",
    "forecast = model.predict(n_periods=7)\n",
    "forecast = pd.DataFrame(forecast,index = valid.index,columns=['Prediction'])\n",
    "\n",
    "forecast2 = model.predict(n_periods=19)\n",
    "forecast2 = pd.DataFrame(forecast2,index = test.index,columns=['Prediction'])\n",
    "print(forecast2)\n",
    "\n",
    "rms=np.sqrt(np.mean(np.power((np.array(valid['United Kingdom'])-np.array(forecast['Prediction'])),2)))\n",
    "print(rms)\n",
    "\n",
    "rms2=np.sqrt(np.mean(np.power((np.array(test['United Kingdom'])-np.array(forecast2['Prediction'])),2)))\n",
    "print(rms2)\n",
    "#plot\n",
    "plt.figure(figsize=(8,4))\n",
    "plt.plot(train['United Kingdom'])\n",
    "plt.plot(valid['United Kingdom'])\n",
    "plt.plot(forecast['Prediction'])"
   ]
  },
  {
   "cell_type": "markdown",
   "metadata": {},
   "source": [
    "**Prediction of carbonfootprint based on LSTM**"
   ]
  },
  {
   "cell_type": "markdown",
   "metadata": {},
   "source": [
    "**China**"
   ]
  },
  {
   "cell_type": "code",
   "execution_count": 22,
   "metadata": {
    "scrolled": true
   },
   "outputs": [
    {
     "name": "stderr",
     "output_type": "stream",
     "text": [
      "Using TensorFlow backend.\n"
     ]
    },
    {
     "name": "stdout",
     "output_type": "stream",
     "text": [
      "[0.16069419 0.12047723 0.11262046 0.44758655 0.13875805]\n",
      "WARNING:tensorflow:From C:\\Users\\akash\\Anaconda3\\lib\\site-packages\\keras\\backend\\tensorflow_backend.py:422: The name tf.global_variables is deprecated. Please use tf.compat.v1.global_variables instead.\n",
      "\n",
      "Epoch 1/5\n",
      " - 3s - loss: 0.0361\n",
      "Epoch 2/5\n",
      " - 0s - loss: 0.0194\n",
      "Epoch 3/5\n",
      " - 0s - loss: 0.0216\n",
      "Epoch 4/5\n",
      " - 0s - loss: 0.0183\n",
      "Epoch 5/5\n",
      " - 0s - loss: 0.0163\n",
      "China    0.001653\n",
      "dtype: float64\n",
      "[[0.00298963]\n",
      " [0.00290853]\n",
      " [0.00294069]\n",
      " [0.00300775]\n",
      " [0.00316958]\n",
      " [0.00336002]\n",
      " [0.00347802]]\n"
     ]
    },
    {
     "name": "stderr",
     "output_type": "stream",
     "text": [
      "C:\\Users\\akash\\Anaconda3\\lib\\site-packages\\ipykernel_launcher.py:63: SettingWithCopyWarning: \n",
      "A value is trying to be set on a copy of a slice from a DataFrame.\n",
      "Try using .loc[row_indexer,col_indexer] = value instead\n",
      "\n",
      "See the caveats in the documentation: http://pandas.pydata.org/pandas-docs/stable/user_guide/indexing.html#returning-a-view-versus-a-copy\n"
     ]
    },
    {
     "data": {
      "text/plain": [
       "[<matplotlib.lines.Line2D at 0x2567b417748>,\n",
       " <matplotlib.lines.Line2D at 0x2567b417898>]"
      ]
     },
     "execution_count": 22,
     "metadata": {},
     "output_type": "execute_result"
    },
    {
     "data": {
      "image/png": "[encoded data removed]",
      "text/plain": [
       "<Figure size 576x288 with 1 Axes>"
      ]
     },
     "metadata": {
      "needs_background": "light"
     },
     "output_type": "display_data"
    }
   ],
   "source": [
    "from sklearn.preprocessing import MinMaxScaler\n",
    "from keras.models import Sequential\n",
    "from keras.layers import Dense, Dropout, LSTM\n",
    "\n",
    "#creating dataframe\n",
    "df.index = df['Year']\n",
    "\n",
    "data = df.sort_index(ascending=True, axis=0)\n",
    "#creating dataframe with date and the target variable\n",
    "new_data = df[[\"China\"]]\n",
    "\n",
    "\n",
    "#creating train and test sets\n",
    "\n",
    "\n",
    "train = new_data[:12]\n",
    "valid = new_data[12:]\n",
    "\n",
    "\n",
    "#converting dataset into x_train and y_train\n",
    "scaler = MinMaxScaler(feature_range=(0, 1))\n",
    "scaled_data = scaler.fit_transform(new_data)\n",
    "\n",
    "x_train, y_train = [], []\n",
    "for i in range(7,len(train)):\n",
    "    x_train.append(scaled_data[i-7:i,0])\n",
    "    y_train.append(scaled_data[i,0])\n",
    "x_train, y_train = np.array(x_train), np.array(y_train)\n",
    "\n",
    "print(y_train)\n",
    "\n",
    "x_train = np.reshape(x_train, (x_train.shape[0],x_train.shape[1],1))\n",
    "\n",
    "# create and fit the LSTM network\n",
    "model = Sequential()\n",
    "model.add(LSTM(units=150, return_sequences=True, input_shape=(x_train.shape[1],1)))\n",
    "model.add(LSTM(units=150))\n",
    "model.add(Dense(1))\n",
    "\n",
    "model.compile(loss='mean_squared_error', optimizer='adam')\n",
    "model.fit(x_train, y_train, epochs=5, batch_size=1, verbose=2)\n",
    "\n",
    "#predicting values, using past 12 from the train data\n",
    "inputs = new_data[len(new_data) - len(valid) - 7:].values\n",
    "inputs = inputs.reshape(-1,1)\n",
    "inputs  = scaler.transform(inputs)\n",
    "\n",
    "\n",
    "X_test = []\n",
    "for i in range(7,inputs.shape[0]):\n",
    "    X_test.append(inputs[i-7:i,0])\n",
    "X_test = np.array(X_test)\n",
    "\n",
    "X_test = np.reshape(X_test, (X_test.shape[0],X_test.shape[1],1))\n",
    "pred_Afghanistan = model.predict(X_test)\n",
    "pred_Afghanistan = scaler.inverse_transform(pred_Afghanistan)\n",
    "rms=np.sqrt(np.mean(np.power((valid-pred_Afghanistan),2)))\n",
    "print(rms)\n",
    "print(pred_Afghanistan)\n",
    "train = new_data[:12]\n",
    "valid = new_data[12:]\n",
    "plt.figure(figsize=(8,4))\n",
    "valid['Predictions'] = pred_Afghanistan\n",
    "plt.plot(train['China'])\n",
    "plt.plot(valid[['China','Predictions']])\n"
   ]
  },
  {
   "cell_type": "markdown",
   "metadata": {},
   "source": [
    "**India**"
   ]
  },
  {
   "cell_type": "code",
   "execution_count": 23,
   "metadata": {},
   "outputs": [
    {
     "name": "stdout",
     "output_type": "stream",
     "text": [
      "Epoch 1/1\n",
      " - 2s - loss: 0.1414\n",
      "India    0.000269\n",
      "dtype: float64\n",
      "[[0.00138042]\n",
      " [0.00130892]\n",
      " [0.00134219]\n",
      " [0.00136962]\n",
      " [0.00142866]\n",
      " [0.00147666]\n",
      " [0.00140803]]\n"
     ]
    },
    {
     "name": "stderr",
     "output_type": "stream",
     "text": [
      "C:\\Users\\akash\\Anaconda3\\lib\\site-packages\\ipykernel_launcher.py:60: SettingWithCopyWarning: \n",
      "A value is trying to be set on a copy of a slice from a DataFrame.\n",
      "Try using .loc[row_indexer,col_indexer] = value instead\n",
      "\n",
      "See the caveats in the documentation: http://pandas.pydata.org/pandas-docs/stable/user_guide/indexing.html#returning-a-view-versus-a-copy\n"
     ]
    },
    {
     "data": {
      "text/plain": [
       "[<matplotlib.lines.Line2D at 0x2567f351f98>,\n",
       " <matplotlib.lines.Line2D at 0x2567f35e0f0>]"
      ]
     },
     "execution_count": 23,
     "metadata": {},
     "output_type": "execute_result"
    },
    {
     "data": {
      "image/png": "[encoded data removed]",
      "text/plain": [
       "<Figure size 576x288 with 1 Axes>"
      ]
     },
     "metadata": {
      "needs_background": "light"
     },
     "output_type": "display_data"
    }
   ],
   "source": [
    "from sklearn.preprocessing import MinMaxScaler\n",
    "from keras.models import Sequential\n",
    "from keras.layers import Dense, Dropout, LSTM\n",
    "\n",
    "#creating dataframe\n",
    "df.index = df['Year']\n",
    "\n",
    "data = df.sort_index(ascending=True, axis=0)\n",
    "#creating dataframe with date and the target variable\n",
    "new_data_india = df[[\"India\"]]\n",
    "\n",
    "\n",
    "\n",
    "#creating train and test sets\n",
    "\n",
    "\n",
    "train = new_data_india[:12]\n",
    "valid = new_data_india[12:]\n",
    "\n",
    "#converting dataset into x_train and y_train\n",
    "scaler = MinMaxScaler(feature_range=(0, 1))\n",
    "scaled_data = scaler.fit_transform(new_data_india)\n",
    "\n",
    "x_train, y_train = [], []\n",
    "for i in range(7,len(train)):\n",
    "    x_train.append(scaled_data[i-7:i,0])\n",
    "    y_train.append(scaled_data[i,0])\n",
    "x_train, y_train = np.array(x_train), np.array(y_train)\n",
    "\n",
    "x_train = np.reshape(x_train, (x_train.shape[0],x_train.shape[1],1))\n",
    "\n",
    "# create and fit the LSTM network\n",
    "model = Sequential()\n",
    "model.add(LSTM(units=200, return_sequences=True, input_shape=(x_train.shape[1],1)))\n",
    "model.add(LSTM(units=200))\n",
    "model.add(Dense(1))\n",
    "\n",
    "model.compile(loss='mean_squared_error', optimizer='adam')\n",
    "model.fit(x_train, y_train, epochs=1, batch_size=1, verbose=2)\n",
    "\n",
    "#predicting values, using past 12 from the train data\n",
    "inputs = new_data_india[len(new_data) - len(valid) - 7:].values\n",
    "inputs = inputs.reshape(-1,1)\n",
    "inputs  = scaler.transform(inputs)\n",
    "\n",
    "X_test = []\n",
    "for i in range(7,inputs.shape[0]):\n",
    "    X_test.append(inputs[i-7:i,0])\n",
    "X_test = np.array(X_test)\n",
    "\n",
    "X_test = np.reshape(X_test, (X_test.shape[0],X_test.shape[1],1))\n",
    "pred_India = model.predict(X_test)\n",
    "pred_India = scaler.inverse_transform(pred_India)\n",
    "rms=np.sqrt(np.mean(np.power((valid-pred_India),2)))\n",
    "print(rms)\n",
    "print(pred_India)\n",
    "plt.figure(figsize=(8,4))\n",
    "train = new_data_india[:12]\n",
    "valid = new_data_india[12:]\n",
    "valid['Predictions'] = pred_India\n",
    "plt.plot(train['India'])\n",
    "plt.plot(valid[['India','Predictions']])\n"
   ]
  },
  {
   "cell_type": "markdown",
   "metadata": {},
   "source": [
    "**Mexico**"
   ]
  },
  {
   "cell_type": "code",
   "execution_count": 24,
   "metadata": {},
   "outputs": [
    {
     "name": "stdout",
     "output_type": "stream",
     "text": [
      "Epoch 1/1\n",
      " - 3s - loss: 0.1409\n",
      "Mexico    0.000639\n",
      "dtype: float64\n",
      "[[0.0040772 ]\n",
      " [0.00400167]\n",
      " [0.00402085]\n",
      " [0.00403202]\n",
      " [0.00407664]\n",
      " [0.00411368]\n",
      " [0.00404234]]\n"
     ]
    },
    {
     "name": "stderr",
     "output_type": "stream",
     "text": [
      "C:\\Users\\akash\\Anaconda3\\lib\\site-packages\\ipykernel_launcher.py:59: SettingWithCopyWarning: \n",
      "A value is trying to be set on a copy of a slice from a DataFrame.\n",
      "Try using .loc[row_indexer,col_indexer] = value instead\n",
      "\n",
      "See the caveats in the documentation: http://pandas.pydata.org/pandas-docs/stable/user_guide/indexing.html#returning-a-view-versus-a-copy\n"
     ]
    },
    {
     "data": {
      "text/plain": [
       "[<matplotlib.lines.Line2D at 0x25606db6198>,\n",
       " <matplotlib.lines.Line2D at 0x25606db62e8>]"
      ]
     },
     "execution_count": 24,
     "metadata": {},
     "output_type": "execute_result"
    },
    {
     "data": {
      "image/png": "[encoded data removed]",
      "text/plain": [
       "<Figure size 576x288 with 1 Axes>"
      ]
     },
     "metadata": {
      "needs_background": "light"
     },
     "output_type": "display_data"
    }
   ],
   "source": [
    "from sklearn.preprocessing import MinMaxScaler\n",
    "from keras.models import Sequential\n",
    "from keras.layers import Dense, Dropout, LSTM\n",
    "\n",
    "#creating dataframe\n",
    "df.index = df['Year']\n",
    "\n",
    "data = df.sort_index(ascending=True, axis=0)\n",
    "#creating dataframe with date and the target variable\n",
    "new_data_mexico = df[[\"Mexico\"]]\n",
    "\n",
    "\n",
    "\n",
    "#creating train and test sets\n",
    "\n",
    "\n",
    "train = new_data_mexico[:12]\n",
    "valid = new_data_mexico[12:]\n",
    "\n",
    "#converting dataset into x_train and y_train\n",
    "scaler = MinMaxScaler(feature_range=(0, 1))\n",
    "scaled_data = scaler.fit_transform(new_data_mexico)\n",
    "\n",
    "x_train, y_train = [], []\n",
    "for i in range(7,len(train)):\n",
    "    x_train.append(scaled_data[i-7:i,0])\n",
    "    y_train.append(scaled_data[i,0])\n",
    "x_train, y_train = np.array(x_train), np.array(y_train)\n",
    "\n",
    "x_train = np.reshape(x_train, (x_train.shape[0],x_train.shape[1],1))\n",
    "\n",
    "# create and fit the LSTM network\n",
    "model = Sequential()\n",
    "model.add(LSTM(units=250, return_sequences=True, input_shape=(x_train.shape[1],1)))\n",
    "model.add(LSTM(units=250))\n",
    "model.add(Dense(1))\n",
    "\n",
    "model.compile(loss='mean_squared_error', optimizer='adam')\n",
    "model.fit(x_train, y_train, epochs=1, batch_size=1, verbose=2)\n",
    "\n",
    "#predicting values, using past 12 from the train data\n",
    "inputs = new_data_mexico[len(new_data) - len(valid) - 7:].values\n",
    "inputs = inputs.reshape(-1,1)\n",
    "inputs  = scaler.transform(inputs)\n",
    "\n",
    "X_test = []\n",
    "for i in range(7,inputs.shape[0]):\n",
    "    X_test.append(inputs[i-7:i,0])\n",
    "X_test = np.array(X_test)\n",
    "\n",
    "X_test = np.reshape(X_test, (X_test.shape[0],X_test.shape[1],1))\n",
    "pred_Mexico = model.predict(X_test)\n",
    "pred_Mexico = scaler.inverse_transform(pred_Mexico)\n",
    "rms=np.sqrt(np.mean(np.power((valid-pred_Mexico),2)))\n",
    "print(rms)\n",
    "print(pred_Mexico)\n",
    "train = new_data_mexico[:12]\n",
    "valid = new_data_mexico[12:]\n",
    "valid['Predictions'] = pred_Mexico\n",
    "plt.figure(figsize=(8,4))\n",
    "plt.plot(train['Mexico'])\n",
    "plt.plot(valid[['Mexico','Predictions']])\n"
   ]
  },
  {
   "cell_type": "markdown",
   "metadata": {},
   "source": [
    "**United States**"
   ]
  },
  {
   "cell_type": "code",
   "execution_count": 25,
   "metadata": {},
   "outputs": [
    {
     "name": "stdout",
     "output_type": "stream",
     "text": [
      "Epoch 1/5\n",
      " - 3s - loss: 0.1694\n",
      "Epoch 2/5\n",
      " - 0s - loss: 0.1501\n",
      "Epoch 3/5\n",
      " - 0s - loss: 0.1296\n",
      "Epoch 4/5\n",
      " - 0s - loss: 0.1061\n",
      "Epoch 5/5\n",
      " - 0s - loss: 0.0936\n",
      "United States    0.001187\n",
      "dtype: float64\n",
      "[[0.01943997]\n",
      " [0.01929552]\n",
      " [0.01924862]\n",
      " [0.01918082]\n",
      " [0.01920379]\n",
      " [0.01918515]\n",
      " [0.01904093]]\n"
     ]
    },
    {
     "name": "stderr",
     "output_type": "stream",
     "text": [
      "C:\\Users\\akash\\Anaconda3\\lib\\site-packages\\ipykernel_launcher.py:59: SettingWithCopyWarning: \n",
      "A value is trying to be set on a copy of a slice from a DataFrame.\n",
      "Try using .loc[row_indexer,col_indexer] = value instead\n",
      "\n",
      "See the caveats in the documentation: http://pandas.pydata.org/pandas-docs/stable/user_guide/indexing.html#returning-a-view-versus-a-copy\n"
     ]
    },
    {
     "data": {
      "text/plain": [
       "[<matplotlib.lines.Line2D at 0x25607d52a58>,\n",
       " <matplotlib.lines.Line2D at 0x25607d52ba8>]"
      ]
     },
     "execution_count": 25,
     "metadata": {},
     "output_type": "execute_result"
    },
    {
     "data": {
      "image/png": "[encoded data removed]",
      "text/plain": [
       "<Figure size 576x288 with 1 Axes>"
      ]
     },
     "metadata": {
      "needs_background": "light"
     },
     "output_type": "display_data"
    }
   ],
   "source": [
    "from sklearn.preprocessing import MinMaxScaler\n",
    "from keras.models import Sequential\n",
    "from keras.layers import Dense, Dropout, LSTM\n",
    "\n",
    "#creating dataframe\n",
    "df.index = df['Year']\n",
    "\n",
    "data = df.sort_index(ascending=True, axis=0)\n",
    "#creating dataframe with date and the target variable\n",
    "new_data_Us = df[[\"United States\"]]\n",
    "\n",
    "\n",
    "\n",
    "#creating train and test sets\n",
    "\n",
    "\n",
    "train = new_data_Us[:12]\n",
    "valid = new_data_Us[12:]\n",
    "\n",
    "#converting dataset into x_train and y_train\n",
    "scaler = MinMaxScaler(feature_range=(0, 1))\n",
    "scaled_data = scaler.fit_transform(new_data_Us)\n",
    "\n",
    "x_train, y_train = [], []\n",
    "for i in range(7,len(train)):\n",
    "    x_train.append(scaled_data[i-7:i,0])\n",
    "    y_train.append(scaled_data[i,0])\n",
    "x_train, y_train = np.array(x_train), np.array(y_train)\n",
    "\n",
    "x_train = np.reshape(x_train, (x_train.shape[0],x_train.shape[1],1))\n",
    "\n",
    "# create and fit the LSTM network\n",
    "model = Sequential()\n",
    "model.add(LSTM(units=9, return_sequences=True, input_shape=(x_train.shape[1],1)))\n",
    "model.add(LSTM(units=9))\n",
    "model.add(Dense(1))\n",
    "\n",
    "model.compile(loss='mean_squared_error', optimizer='adam')\n",
    "model.fit(x_train, y_train, epochs=5, batch_size=1, verbose=2)\n",
    "\n",
    "#predicting values, using past 12 from the train data\n",
    "inputs = new_data_Us[len(new_data) - len(valid) - 7:].values\n",
    "inputs = inputs.reshape(-1,1)\n",
    "inputs  = scaler.transform(inputs)\n",
    "\n",
    "X_test = []\n",
    "for i in range(7,inputs.shape[0]):\n",
    "    X_test.append(inputs[i-7:i,0])\n",
    "X_test = np.array(X_test)\n",
    "\n",
    "X_test = np.reshape(X_test, (X_test.shape[0],X_test.shape[1],1))\n",
    "pred_Us = model.predict(X_test)\n",
    "pred_Us = scaler.inverse_transform(pred_Us)\n",
    "rms=np.sqrt(np.mean(np.power((valid-pred_Us),2)))\n",
    "print(rms)\n",
    "print(pred_Us)\n",
    "train = new_data_Us[:12]\n",
    "valid = new_data_Us[12:]\n",
    "valid['Predictions'] = pred_Us\n",
    "plt.figure(figsize=(8,4))\n",
    "plt.plot(train['United States'])\n",
    "plt.plot(valid[['United States','Predictions']])\n"
   ]
  },
  {
   "cell_type": "markdown",
   "metadata": {},
   "source": [
    "**United Kingdom**"
   ]
  },
  {
   "cell_type": "code",
   "execution_count": 84,
   "metadata": {},
   "outputs": [
    {
     "name": "stdout",
     "output_type": "stream",
     "text": [
      "Epoch 1/5\n",
      " - 3s - loss: 0.1036\n",
      "Epoch 2/5\n",
      " - 0s - loss: 0.0889\n",
      "Epoch 3/5\n",
      " - 0s - loss: 0.0778\n",
      "Epoch 4/5\n",
      " - 0s - loss: 0.0652\n",
      "Epoch 5/5\n",
      " - 0s - loss: 0.0581\n",
      "United Kingdom    0.000648\n",
      "dtype: float64\n",
      "[[0.00907401]\n",
      " [0.00901414]\n",
      " [0.0089994 ]\n",
      " [0.00899087]\n",
      " [0.00899581]\n",
      " [0.00899956]\n",
      " [0.00895854]]\n"
     ]
    },
    {
     "name": "stderr",
     "output_type": "stream",
     "text": [
      "C:\\Users\\akash\\Anaconda3\\lib\\site-packages\\ipykernel_launcher.py:72: SettingWithCopyWarning:\n",
      "\n",
      "\n",
      "A value is trying to be set on a copy of a slice from a DataFrame.\n",
      "Try using .loc[row_indexer,col_indexer] = value instead\n",
      "\n",
      "See the caveats in the documentation: http://pandas.pydata.org/pandas-docs/stable/user_guide/indexing.html#returning-a-view-versus-a-copy\n",
      "\n"
     ]
    },
    {
     "data": {
      "text/plain": [
       "[<matplotlib.lines.Line2D at 0x256218103c8>,\n",
       " <matplotlib.lines.Line2D at 0x25621810518>]"
      ]
     },
     "execution_count": 84,
     "metadata": {},
     "output_type": "execute_result"
    },
    {
     "data": {
      "image/png": "[encoded data removed]",
      "text/plain": [
       "<Figure size 576x288 with 1 Axes>"
      ]
     },
     "metadata": {
      "needs_background": "light"
     },
     "output_type": "display_data"
    }
   ],
   "source": [
    "from sklearn.preprocessing import MinMaxScaler\n",
    "from keras.models import Sequential\n",
    "from keras.layers import Dense, Dropout, LSTM\n",
    "\n",
    "#creating dataframe\n",
    "df.index = df['Year']\n",
    "\n",
    "data = df.sort_index(ascending=True, axis=0)\n",
    "#creating dataframe with date and the target variable\n",
    "new_data_Uk = df[[\"United Kingdom\"]]\n",
    "\n",
    "df2 = pd.read_csv('testfile.csv')\n",
    "\n",
    "# looking at the first five rows of the data\n",
    "#print(df.head())\n",
    "#print('\\n Shape of the data:')\n",
    "#print(df.shape)\n",
    "\n",
    "df2.index = df2['Year']\n",
    "new_data_un = df2[[\"United Kingdom\"]]\n",
    "\n",
    "\n",
    "\n",
    "#creating train and test sets\n",
    "\n",
    "test =  new_data_un[:7]\n",
    "train = new_data_Uk[:12]\n",
    "valid = new_data_Uk[12:]\n",
    "\n",
    "\n",
    "#converting dataset into x_train and y_train\n",
    "scaler = MinMaxScaler(feature_range=(0, 1))\n",
    "scaled_data = scaler.fit_transform(new_data_Uk)\n",
    "\n",
    "x_train, y_train = [], []\n",
    "for i in range(7,len(train)):\n",
    "    x_train.append(scaled_data[i-7:i,0])\n",
    "    y_train.append(scaled_data[i,0])\n",
    "x_train, y_train = np.array(x_train), np.array(y_train)\n",
    "\n",
    "x_train = np.reshape(x_train, (x_train.shape[0],x_train.shape[1],1))\n",
    "\n",
    "# create and fit the LSTM network\n",
    "model = Sequential()\n",
    "model.add(LSTM(units=5, return_sequences=True, input_shape=(x_train.shape[1],1)))\n",
    "model.add(LSTM(units=5))\n",
    "model.add(Dense(1))\n",
    "\n",
    "model.compile(loss='mean_squared_error', optimizer='adam')\n",
    "model.fit(x_train, y_train, epochs=5, batch_size=1, verbose=2)\n",
    "\n",
    "#predicting, using past 12 from the train data\n",
    "inputs = new_data_Uk[len(new_data) - len(valid) - 7:].values\n",
    "inputs = inputs.reshape(-1,1)\n",
    "inputs  = scaler.transform(inputs)\n",
    "\n",
    "\n",
    "X_test = []\n",
    "for i in range(7,inputs.shape[0]):\n",
    "    X_test.append(inputs[i-7:i,0])\n",
    "X_test = np.array(X_test)\n",
    "\n",
    "X_test = np.reshape(X_test, (X_test.shape[0],X_test.shape[1],1))\n",
    "pred_Uk = model.predict(X_test)\n",
    "pred_Uk = scaler.inverse_transform(pred_Uk)\n",
    "rms=np.sqrt(np.mean(np.power((valid-pred_Uk),2)))\n",
    "print(rms)\n",
    "print(pred_Uk)\n",
    "train = new_data_Uk[:12]\n",
    "valid = new_data_Uk[12:]\n",
    "plt.figure(figsize=(8,4))\n",
    "valid['Predictions'] = pred_Uk\n",
    "plt.plot(train['United Kingdom'])\n",
    "plt.plot(valid[['United Kingdom','Predictions']])"
   ]
  },
  {
   "cell_type": "code",
   "execution_count": 103,
   "metadata": {},
   "outputs": [
    {
     "name": "stdout",
     "output_type": "stream",
     "text": [
      "Mann_Kendall_Test(trend='increasing', h=True, p=0.00020851488841810983, z=3.7084705712689936, Tau=0.6257309941520468, s=107.0, var_s=817.0, slope=0.00013915800000000012)\n",
      "\n",
      "\n",
      "**********THE TREND IS*******\n",
      "\n",
      "increasing\n"
     ]
    }
   ],
   "source": [
    "import numpy as np\n",
    "import pymannkendall as mk\n",
    "\n",
    "df = pd.read_csv('file.csv')\n",
    "# Data generation for analysis\n",
    "df.index = df['Year']\n",
    "new_data = df[[\"China\"]]\n",
    "\n",
    "\n",
    "result = mk.original_test(new_data)\n",
    "trend, h, p, z, Tau, s, var_s, slope = mk.original_test(new_data)\n",
    "print(result)\n",
    "print(\"\\n\")\n",
    "print(\"**********THE TREND IS*******\\n\")\n",
    "print(trend)"
   ]
  },
  {
   "cell_type": "code",
   "execution_count": null,
   "metadata": {},
   "outputs": [],
   "source": []
  }
 ],
 "metadata": {
  "kernelspec": {
   "display_name": "Python 3",
   "language": "python",
   "name": "python3"
  },
  "language_info": {
   "codemirror_mode": {
    "name": "ipython",
    "version": 3
   },
   "file_extension": ".py",
   "mimetype": "text/x-python",
   "name": "python",
   "nbconvert_exporter": "python",
   "pygments_lexer": "ipython3",
   "version": "3.7.3"
  }
 },
 "nbformat": 4,
 "nbformat_minor": 2
}
